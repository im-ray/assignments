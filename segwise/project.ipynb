{
 "cells": [
  {
   "cell_type": "code",
   "execution_count": 2,
   "metadata": {},
   "outputs": [],
   "source": [
    "## Read csv from a link\n",
    "import pandas as pd\n",
    "def read_csv_from_url(csv_url):\n",
    "    df = pd.read_csv(csv_url)\n",
    "    return df"
   ]
  },
  {
   "cell_type": "code",
   "execution_count": 19,
   "metadata": {},
   "outputs": [
    {
     "ename": "ParserError",
     "evalue": "Error tokenizing data. C error: Expected 1 fields in line 42, saw 22\n",
     "output_type": "error",
     "traceback": [
      "\u001b[0;31m---------------------------------------------------------------------------\u001b[0m",
      "\u001b[0;31mParserError\u001b[0m                               Traceback (most recent call last)",
      "Cell \u001b[0;32mIn[19], line 2\u001b[0m\n\u001b[1;32m      1\u001b[0m csv_url \u001b[38;5;241m=\u001b[39m \u001b[38;5;124m\"\u001b[39m\u001b[38;5;124mhttps://github.com/im-ray/assignments/blob/main/segwise/game_data.csv\u001b[39m\u001b[38;5;124m\"\u001b[39m\n\u001b[0;32m----> 2\u001b[0m df_game_data \u001b[38;5;241m=\u001b[39m \u001b[43mread_csv_from_url\u001b[49m\u001b[43m(\u001b[49m\u001b[43mcsv_url\u001b[49m\u001b[43m)\u001b[49m\n\u001b[1;32m      3\u001b[0m df_game_data\u001b[38;5;241m.\u001b[39mhead()\n",
      "Cell \u001b[0;32mIn[2], line 4\u001b[0m, in \u001b[0;36mread_csv_from_url\u001b[0;34m(csv_url)\u001b[0m\n\u001b[1;32m      3\u001b[0m \u001b[38;5;28;01mdef\u001b[39;00m \u001b[38;5;21mread_csv_from_url\u001b[39m(csv_url):\n\u001b[0;32m----> 4\u001b[0m     df \u001b[38;5;241m=\u001b[39m \u001b[43mpd\u001b[49m\u001b[38;5;241;43m.\u001b[39;49m\u001b[43mread_csv\u001b[49m\u001b[43m(\u001b[49m\u001b[43mcsv_url\u001b[49m\u001b[43m)\u001b[49m\n\u001b[1;32m      5\u001b[0m     \u001b[38;5;28;01mreturn\u001b[39;00m df\n",
      "File \u001b[0;32m~/Desktop/Assignment/assignments/segwise/segwise_env/lib/python3.9/site-packages/pandas/io/parsers/readers.py:1026\u001b[0m, in \u001b[0;36mread_csv\u001b[0;34m(filepath_or_buffer, sep, delimiter, header, names, index_col, usecols, dtype, engine, converters, true_values, false_values, skipinitialspace, skiprows, skipfooter, nrows, na_values, keep_default_na, na_filter, verbose, skip_blank_lines, parse_dates, infer_datetime_format, keep_date_col, date_parser, date_format, dayfirst, cache_dates, iterator, chunksize, compression, thousands, decimal, lineterminator, quotechar, quoting, doublequote, escapechar, comment, encoding, encoding_errors, dialect, on_bad_lines, delim_whitespace, low_memory, memory_map, float_precision, storage_options, dtype_backend)\u001b[0m\n\u001b[1;32m   1013\u001b[0m kwds_defaults \u001b[38;5;241m=\u001b[39m _refine_defaults_read(\n\u001b[1;32m   1014\u001b[0m     dialect,\n\u001b[1;32m   1015\u001b[0m     delimiter,\n\u001b[0;32m   (...)\u001b[0m\n\u001b[1;32m   1022\u001b[0m     dtype_backend\u001b[38;5;241m=\u001b[39mdtype_backend,\n\u001b[1;32m   1023\u001b[0m )\n\u001b[1;32m   1024\u001b[0m kwds\u001b[38;5;241m.\u001b[39mupdate(kwds_defaults)\n\u001b[0;32m-> 1026\u001b[0m \u001b[38;5;28;01mreturn\u001b[39;00m \u001b[43m_read\u001b[49m\u001b[43m(\u001b[49m\u001b[43mfilepath_or_buffer\u001b[49m\u001b[43m,\u001b[49m\u001b[43m \u001b[49m\u001b[43mkwds\u001b[49m\u001b[43m)\u001b[49m\n",
      "File \u001b[0;32m~/Desktop/Assignment/assignments/segwise/segwise_env/lib/python3.9/site-packages/pandas/io/parsers/readers.py:626\u001b[0m, in \u001b[0;36m_read\u001b[0;34m(filepath_or_buffer, kwds)\u001b[0m\n\u001b[1;32m    623\u001b[0m     \u001b[38;5;28;01mreturn\u001b[39;00m parser\n\u001b[1;32m    625\u001b[0m \u001b[38;5;28;01mwith\u001b[39;00m parser:\n\u001b[0;32m--> 626\u001b[0m     \u001b[38;5;28;01mreturn\u001b[39;00m \u001b[43mparser\u001b[49m\u001b[38;5;241;43m.\u001b[39;49m\u001b[43mread\u001b[49m\u001b[43m(\u001b[49m\u001b[43mnrows\u001b[49m\u001b[43m)\u001b[49m\n",
      "File \u001b[0;32m~/Desktop/Assignment/assignments/segwise/segwise_env/lib/python3.9/site-packages/pandas/io/parsers/readers.py:1923\u001b[0m, in \u001b[0;36mTextFileReader.read\u001b[0;34m(self, nrows)\u001b[0m\n\u001b[1;32m   1916\u001b[0m nrows \u001b[38;5;241m=\u001b[39m validate_integer(\u001b[38;5;124m\"\u001b[39m\u001b[38;5;124mnrows\u001b[39m\u001b[38;5;124m\"\u001b[39m, nrows)\n\u001b[1;32m   1917\u001b[0m \u001b[38;5;28;01mtry\u001b[39;00m:\n\u001b[1;32m   1918\u001b[0m     \u001b[38;5;66;03m# error: \"ParserBase\" has no attribute \"read\"\u001b[39;00m\n\u001b[1;32m   1919\u001b[0m     (\n\u001b[1;32m   1920\u001b[0m         index,\n\u001b[1;32m   1921\u001b[0m         columns,\n\u001b[1;32m   1922\u001b[0m         col_dict,\n\u001b[0;32m-> 1923\u001b[0m     ) \u001b[38;5;241m=\u001b[39m \u001b[38;5;28;43mself\u001b[39;49m\u001b[38;5;241;43m.\u001b[39;49m\u001b[43m_engine\u001b[49m\u001b[38;5;241;43m.\u001b[39;49m\u001b[43mread\u001b[49m\u001b[43m(\u001b[49m\u001b[43m  \u001b[49m\u001b[38;5;66;43;03m# type: ignore[attr-defined]\u001b[39;49;00m\n\u001b[1;32m   1924\u001b[0m \u001b[43m        \u001b[49m\u001b[43mnrows\u001b[49m\n\u001b[1;32m   1925\u001b[0m \u001b[43m    \u001b[49m\u001b[43m)\u001b[49m\n\u001b[1;32m   1926\u001b[0m \u001b[38;5;28;01mexcept\u001b[39;00m \u001b[38;5;167;01mException\u001b[39;00m:\n\u001b[1;32m   1927\u001b[0m     \u001b[38;5;28mself\u001b[39m\u001b[38;5;241m.\u001b[39mclose()\n",
      "File \u001b[0;32m~/Desktop/Assignment/assignments/segwise/segwise_env/lib/python3.9/site-packages/pandas/io/parsers/c_parser_wrapper.py:234\u001b[0m, in \u001b[0;36mCParserWrapper.read\u001b[0;34m(self, nrows)\u001b[0m\n\u001b[1;32m    232\u001b[0m \u001b[38;5;28;01mtry\u001b[39;00m:\n\u001b[1;32m    233\u001b[0m     \u001b[38;5;28;01mif\u001b[39;00m \u001b[38;5;28mself\u001b[39m\u001b[38;5;241m.\u001b[39mlow_memory:\n\u001b[0;32m--> 234\u001b[0m         chunks \u001b[38;5;241m=\u001b[39m \u001b[38;5;28;43mself\u001b[39;49m\u001b[38;5;241;43m.\u001b[39;49m\u001b[43m_reader\u001b[49m\u001b[38;5;241;43m.\u001b[39;49m\u001b[43mread_low_memory\u001b[49m\u001b[43m(\u001b[49m\u001b[43mnrows\u001b[49m\u001b[43m)\u001b[49m\n\u001b[1;32m    235\u001b[0m         \u001b[38;5;66;03m# destructive to chunks\u001b[39;00m\n\u001b[1;32m    236\u001b[0m         data \u001b[38;5;241m=\u001b[39m _concatenate_chunks(chunks)\n",
      "File \u001b[0;32mparsers.pyx:838\u001b[0m, in \u001b[0;36mpandas._libs.parsers.TextReader.read_low_memory\u001b[0;34m()\u001b[0m\n",
      "File \u001b[0;32mparsers.pyx:905\u001b[0m, in \u001b[0;36mpandas._libs.parsers.TextReader._read_rows\u001b[0;34m()\u001b[0m\n",
      "File \u001b[0;32mparsers.pyx:874\u001b[0m, in \u001b[0;36mpandas._libs.parsers.TextReader._tokenize_rows\u001b[0;34m()\u001b[0m\n",
      "File \u001b[0;32mparsers.pyx:891\u001b[0m, in \u001b[0;36mpandas._libs.parsers.TextReader._check_tokenize_status\u001b[0;34m()\u001b[0m\n",
      "File \u001b[0;32mparsers.pyx:2061\u001b[0m, in \u001b[0;36mpandas._libs.parsers.raise_parser_error\u001b[0;34m()\u001b[0m\n",
      "\u001b[0;31mParserError\u001b[0m: Error tokenizing data. C error: Expected 1 fields in line 42, saw 22\n"
     ]
    }
   ],
   "source": [
    "csv_url = \"https://github.com/im-ray/assignments/blob/main/segwise/game_data.csv\"\n",
    "df_game_data = read_csv_from_url(csv_url)\n",
    "df_game_data.head()"
   ]
  },
  {
   "cell_type": "code",
   "execution_count": 4,
   "metadata": {},
   "outputs": [
    {
     "data": {
      "text/plain": [
       "'/Users/rupeshkumar/Desktop/Assignment/assignments/segwise'"
      ]
     },
     "execution_count": 4,
     "metadata": {},
     "output_type": "execute_result"
    }
   ],
   "source": [
    "%pwd"
   ]
  },
  {
   "cell_type": "code",
   "execution_count": 6,
   "metadata": {},
   "outputs": [],
   "source": [
    "df_game_data = pd.read_csv(\"game_data.csv\")"
   ]
  },
  {
   "cell_type": "code",
   "execution_count": 7,
   "metadata": {},
   "outputs": [
    {
     "data": {
      "text/html": [
       "<div>\n",
       "<style scoped>\n",
       "    .dataframe tbody tr th:only-of-type {\n",
       "        vertical-align: middle;\n",
       "    }\n",
       "\n",
       "    .dataframe tbody tr th {\n",
       "        vertical-align: top;\n",
       "    }\n",
       "\n",
       "    .dataframe thead th {\n",
       "        text-align: right;\n",
       "    }\n",
       "</style>\n",
       "<table border=\"1\" class=\"dataframe\">\n",
       "  <thead>\n",
       "    <tr style=\"text-align: right;\">\n",
       "      <th></th>\n",
       "      <th>Unnamed: 0</th>\n",
       "      <th>AppID</th>\n",
       "      <th>Name</th>\n",
       "      <th>Release date</th>\n",
       "      <th>Required age</th>\n",
       "      <th>Price</th>\n",
       "      <th>DLC count</th>\n",
       "      <th>About the game</th>\n",
       "      <th>Supported languages</th>\n",
       "      <th>Windows</th>\n",
       "      <th>Mac</th>\n",
       "      <th>Linux</th>\n",
       "      <th>Positive</th>\n",
       "      <th>Negative</th>\n",
       "      <th>Score rank</th>\n",
       "      <th>Developers</th>\n",
       "      <th>Publishers</th>\n",
       "      <th>Categories</th>\n",
       "      <th>Genres</th>\n",
       "      <th>Tags</th>\n",
       "    </tr>\n",
       "  </thead>\n",
       "  <tbody>\n",
       "    <tr>\n",
       "      <th>0</th>\n",
       "      <td>0</td>\n",
       "      <td>20200</td>\n",
       "      <td>Galactic Bowling</td>\n",
       "      <td>Oct 21, 2008</td>\n",
       "      <td>0</td>\n",
       "      <td>19.99</td>\n",
       "      <td>0</td>\n",
       "      <td>Galactic Bowling is an exaggerated and stylize...</td>\n",
       "      <td>['English']</td>\n",
       "      <td>True</td>\n",
       "      <td>False</td>\n",
       "      <td>False</td>\n",
       "      <td>6</td>\n",
       "      <td>11</td>\n",
       "      <td>NaN</td>\n",
       "      <td>Perpetual FX Creative</td>\n",
       "      <td>Perpetual FX Creative</td>\n",
       "      <td>Single-player,Multi-player,Steam Achievements,...</td>\n",
       "      <td>Casual,Indie,Sports</td>\n",
       "      <td>Indie,Casual,Sports,Bowling</td>\n",
       "    </tr>\n",
       "    <tr>\n",
       "      <th>1</th>\n",
       "      <td>1</td>\n",
       "      <td>655370</td>\n",
       "      <td>Train Bandit</td>\n",
       "      <td>Oct 12, 2017</td>\n",
       "      <td>0</td>\n",
       "      <td>0.99</td>\n",
       "      <td>0</td>\n",
       "      <td>THE LAW!! Looks to be a showdown atop a train....</td>\n",
       "      <td>['English', 'French', 'Italian', 'German', 'Sp...</td>\n",
       "      <td>True</td>\n",
       "      <td>True</td>\n",
       "      <td>False</td>\n",
       "      <td>53</td>\n",
       "      <td>5</td>\n",
       "      <td>NaN</td>\n",
       "      <td>Rusty Moyher</td>\n",
       "      <td>Wild Rooster</td>\n",
       "      <td>Single-player,Steam Achievements,Full controll...</td>\n",
       "      <td>Action,Indie</td>\n",
       "      <td>Indie,Action,Pixel Graphics,2D,Retro,Arcade,Sc...</td>\n",
       "    </tr>\n",
       "    <tr>\n",
       "      <th>2</th>\n",
       "      <td>2</td>\n",
       "      <td>1732930</td>\n",
       "      <td>Jolt Project</td>\n",
       "      <td>Nov 17, 2021</td>\n",
       "      <td>0</td>\n",
       "      <td>4.99</td>\n",
       "      <td>0</td>\n",
       "      <td>Jolt Project: The army now has a new robotics ...</td>\n",
       "      <td>['English', 'Portuguese - Brazil']</td>\n",
       "      <td>True</td>\n",
       "      <td>False</td>\n",
       "      <td>False</td>\n",
       "      <td>0</td>\n",
       "      <td>0</td>\n",
       "      <td>NaN</td>\n",
       "      <td>Campião Games</td>\n",
       "      <td>Campião Games</td>\n",
       "      <td>Single-player</td>\n",
       "      <td>Action,Adventure,Indie,Strategy</td>\n",
       "      <td>NaN</td>\n",
       "    </tr>\n",
       "    <tr>\n",
       "      <th>3</th>\n",
       "      <td>3</td>\n",
       "      <td>1355720</td>\n",
       "      <td>Henosis™</td>\n",
       "      <td>Jul 23, 2020</td>\n",
       "      <td>0</td>\n",
       "      <td>5.99</td>\n",
       "      <td>0</td>\n",
       "      <td>HENOSIS™ is a mysterious 2D Platform Puzzler w...</td>\n",
       "      <td>['English', 'French', 'Italian', 'German', 'Sp...</td>\n",
       "      <td>True</td>\n",
       "      <td>True</td>\n",
       "      <td>True</td>\n",
       "      <td>3</td>\n",
       "      <td>0</td>\n",
       "      <td>NaN</td>\n",
       "      <td>Odd Critter Games</td>\n",
       "      <td>Odd Critter Games</td>\n",
       "      <td>Single-player,Full controller support</td>\n",
       "      <td>Adventure,Casual,Indie</td>\n",
       "      <td>2D Platformer,Atmospheric,Surreal,Mystery,Puzz...</td>\n",
       "    </tr>\n",
       "    <tr>\n",
       "      <th>4</th>\n",
       "      <td>4</td>\n",
       "      <td>1139950</td>\n",
       "      <td>Two Weeks in Painland</td>\n",
       "      <td>Feb 3, 2020</td>\n",
       "      <td>0</td>\n",
       "      <td>0.00</td>\n",
       "      <td>0</td>\n",
       "      <td>ABOUT THE GAME Play as a hacker who has arrang...</td>\n",
       "      <td>['English', 'Spanish - Spain']</td>\n",
       "      <td>True</td>\n",
       "      <td>True</td>\n",
       "      <td>False</td>\n",
       "      <td>50</td>\n",
       "      <td>8</td>\n",
       "      <td>NaN</td>\n",
       "      <td>Unusual Games</td>\n",
       "      <td>Unusual Games</td>\n",
       "      <td>Single-player,Steam Achievements</td>\n",
       "      <td>Adventure,Indie</td>\n",
       "      <td>Indie,Adventure,Nudity,Violent,Sexual Content,...</td>\n",
       "    </tr>\n",
       "  </tbody>\n",
       "</table>\n",
       "</div>"
      ],
      "text/plain": [
       "   Unnamed: 0    AppID                   Name  Release date  Required age  \\\n",
       "0           0    20200       Galactic Bowling  Oct 21, 2008             0   \n",
       "1           1   655370           Train Bandit  Oct 12, 2017             0   \n",
       "2           2  1732930           Jolt Project  Nov 17, 2021             0   \n",
       "3           3  1355720               Henosis™  Jul 23, 2020             0   \n",
       "4           4  1139950  Two Weeks in Painland   Feb 3, 2020             0   \n",
       "\n",
       "   Price  DLC count                                     About the game  \\\n",
       "0  19.99          0  Galactic Bowling is an exaggerated and stylize...   \n",
       "1   0.99          0  THE LAW!! Looks to be a showdown atop a train....   \n",
       "2   4.99          0  Jolt Project: The army now has a new robotics ...   \n",
       "3   5.99          0  HENOSIS™ is a mysterious 2D Platform Puzzler w...   \n",
       "4   0.00          0  ABOUT THE GAME Play as a hacker who has arrang...   \n",
       "\n",
       "                                 Supported languages  Windows    Mac  Linux  \\\n",
       "0                                        ['English']     True  False  False   \n",
       "1  ['English', 'French', 'Italian', 'German', 'Sp...     True   True  False   \n",
       "2                 ['English', 'Portuguese - Brazil']     True  False  False   \n",
       "3  ['English', 'French', 'Italian', 'German', 'Sp...     True   True   True   \n",
       "4                     ['English', 'Spanish - Spain']     True   True  False   \n",
       "\n",
       "   Positive  Negative  Score rank             Developers  \\\n",
       "0         6        11         NaN  Perpetual FX Creative   \n",
       "1        53         5         NaN           Rusty Moyher   \n",
       "2         0         0         NaN          Campião Games   \n",
       "3         3         0         NaN      Odd Critter Games   \n",
       "4        50         8         NaN          Unusual Games   \n",
       "\n",
       "              Publishers                                         Categories  \\\n",
       "0  Perpetual FX Creative  Single-player,Multi-player,Steam Achievements,...   \n",
       "1           Wild Rooster  Single-player,Steam Achievements,Full controll...   \n",
       "2          Campião Games                                      Single-player   \n",
       "3      Odd Critter Games              Single-player,Full controller support   \n",
       "4          Unusual Games                   Single-player,Steam Achievements   \n",
       "\n",
       "                            Genres  \\\n",
       "0              Casual,Indie,Sports   \n",
       "1                     Action,Indie   \n",
       "2  Action,Adventure,Indie,Strategy   \n",
       "3           Adventure,Casual,Indie   \n",
       "4                  Adventure,Indie   \n",
       "\n",
       "                                                Tags  \n",
       "0                        Indie,Casual,Sports,Bowling  \n",
       "1  Indie,Action,Pixel Graphics,2D,Retro,Arcade,Sc...  \n",
       "2                                                NaN  \n",
       "3  2D Platformer,Atmospheric,Surreal,Mystery,Puzz...  \n",
       "4  Indie,Adventure,Nudity,Violent,Sexual Content,...  "
      ]
     },
     "execution_count": 7,
     "metadata": {},
     "output_type": "execute_result"
    }
   ],
   "source": [
    "df_game_data.head()"
   ]
  },
  {
   "cell_type": "code",
   "execution_count": 8,
   "metadata": {},
   "outputs": [
    {
     "name": "stdout",
     "output_type": "stream",
     "text": [
      "<class 'pandas.core.frame.DataFrame'>\n",
      "RangeIndex: 100 entries, 0 to 99\n",
      "Data columns (total 20 columns):\n",
      " #   Column               Non-Null Count  Dtype  \n",
      "---  ------               --------------  -----  \n",
      " 0   Unnamed: 0           100 non-null    int64  \n",
      " 1   AppID                100 non-null    int64  \n",
      " 2   Name                 100 non-null    object \n",
      " 3   Release date         100 non-null    object \n",
      " 4   Required age         100 non-null    int64  \n",
      " 5   Price                100 non-null    float64\n",
      " 6   DLC count            100 non-null    int64  \n",
      " 7   About the game       100 non-null    object \n",
      " 8   Supported languages  100 non-null    object \n",
      " 9   Windows              100 non-null    bool   \n",
      " 10  Mac                  100 non-null    bool   \n",
      " 11  Linux                100 non-null    bool   \n",
      " 12  Positive             100 non-null    int64  \n",
      " 13  Negative             100 non-null    int64  \n",
      " 14  Score rank           0 non-null      float64\n",
      " 15  Developers           100 non-null    object \n",
      " 16  Publishers           99 non-null     object \n",
      " 17  Categories           99 non-null     object \n",
      " 18  Genres               100 non-null    object \n",
      " 19  Tags                 87 non-null     object \n",
      "dtypes: bool(3), float64(2), int64(6), object(9)\n",
      "memory usage: 13.7+ KB\n"
     ]
    }
   ],
   "source": [
    "df_game_data.info()"
   ]
  },
  {
   "cell_type": "code",
   "execution_count": 10,
   "metadata": {},
   "outputs": [
    {
     "name": "stdout",
     "output_type": "stream",
     "text": [
      "Unnamed: 0               int64\n",
      "AppID                    int64\n",
      "Name                    object\n",
      "Release date            object\n",
      "Required age             int64\n",
      "Price                  float64\n",
      "DLC count                int64\n",
      "About the game          object\n",
      "Supported languages     object\n",
      "Windows                   bool\n",
      "Mac                       bool\n",
      "Linux                     bool\n",
      "Positive                 int64\n",
      "Negative                 int64\n",
      "Score rank             float64\n",
      "Developers              object\n",
      "Publishers              object\n",
      "Categories              object\n",
      "Genres                  object\n",
      "Tags                    object\n",
      "dtype: object\n"
     ]
    }
   ],
   "source": [
    "print(df_game_data.dtypes)"
   ]
  },
  {
   "cell_type": "code",
   "execution_count": 11,
   "metadata": {},
   "outputs": [],
   "source": [
    "from clickhouse_driver import Client\n",
    "client = Client(host='localhost', user='rupesh', password='Rupesh123')"
   ]
  },
  {
   "cell_type": "code",
   "execution_count": 12,
   "metadata": {},
   "outputs": [
    {
     "name": "stdout",
     "output_type": "stream",
     "text": [
      "Databases: [('INFORMATION_SCHEMA',), ('analytics',), ('default',), ('information_schema',), ('system',)]\n"
     ]
    }
   ],
   "source": [
    "# List all databases\n",
    "databases = client.execute('SHOW DATABASES')\n",
    "print(\"Databases:\", databases)"
   ]
  },
  {
   "cell_type": "code",
   "execution_count": 13,
   "metadata": {},
   "outputs": [
    {
     "name": "stdout",
     "output_type": "stream",
     "text": [
      "Tables in 'analytics': [('game_data',)]\n"
     ]
    }
   ],
   "source": [
    "# Switch to the 'analytics' database\n",
    "client.execute('USE analytics')\n",
    "\n",
    "# List all tables in the 'analytics' database\n",
    "tables = client.execute('SHOW TABLES')\n",
    "print(\"Tables in 'analytics':\", tables)"
   ]
  },
  {
   "cell_type": "code",
   "execution_count": 14,
   "metadata": {},
   "outputs": [
    {
     "name": "stdout",
     "output_type": "stream",
     "text": [
      "Schema of 'game_data': [('app_id', 'Int64', '', '', '', '', ''), ('name', 'String', '', '', '', '', ''), ('release_date', 'DateTime', '', '', '', '', ''), ('required_age', 'Int64', '', '', '', '', ''), ('price', 'Float64', '', '', '', '', ''), ('dlc_count', 'Int64', '', '', '', '', ''), ('about_the_game', 'String', '', '', '', '', ''), ('supported_languages', 'String', '', '', '', '', ''), ('windows', 'UInt8', '', '', '', '', ''), ('mac', 'UInt8', '', '', '', '', ''), ('linux', 'UInt8', '', '', '', '', ''), ('positive', 'Int64', '', '', '', '', ''), ('negative', 'Int64', '', '', '', '', ''), ('score_rank', 'Float64', '', '', '', '', ''), ('developers', 'String', '', '', '', '', ''), ('publishers', 'String', '', '', '', '', ''), ('categories', 'String', '', '', '', '', ''), ('genres', 'String', '', '', '', '', ''), ('tags', 'String', '', '', '', '', '')]\n"
     ]
    }
   ],
   "source": [
    "schema = client.execute('DESCRIBE TABLE analytics.game_data')\n",
    "print(\"Schema of 'game_data':\", schema)"
   ]
  },
  {
   "cell_type": "code",
   "execution_count": 15,
   "metadata": {},
   "outputs": [
    {
     "name": "stdout",
     "output_type": "stream",
     "text": [
      "Sample Data from 'game_data': []\n"
     ]
    }
   ],
   "source": [
    "data = client.execute('SELECT * FROM analytics.game_data LIMIT 5')\n",
    "print(\"Sample Data from 'game_data':\", data)\n"
   ]
  },
  {
   "cell_type": "code",
   "execution_count": 16,
   "metadata": {},
   "outputs": [
    {
     "name": "stdout",
     "output_type": "stream",
     "text": [
      "Number of rows in 'game_data': [(0,)]\n"
     ]
    }
   ],
   "source": [
    "query_result = client.execute('SELECT COUNT(*) FROM analytics.game_data')\n",
    "print(\"Number of rows in 'game_data':\", query_result)\n"
   ]
  },
  {
   "cell_type": "code",
   "execution_count": 18,
   "metadata": {},
   "outputs": [
    {
     "name": "stdout",
     "output_type": "stream",
     "text": [
      "DataFrame shape: (100, 20)\n"
     ]
    }
   ],
   "source": [
    "import pandas as pd\n",
    "\n",
    "# Directly read CSV from the URL\n",
    "csv_url = \"https://raw.githubusercontent.com/im-ray/assignments/main/segwise/game_data.csv\"\n",
    "df = pd.read_csv(csv_url)\n",
    "\n",
    "print(f\"DataFrame shape: {df.shape}\")\n",
    "# print(df.head())\n"
   ]
  },
  {
   "cell_type": "code",
   "execution_count": 20,
   "metadata": {},
   "outputs": [],
   "source": [
    "\n",
    "def read_csv_from_url(csv_url):\n",
    "    \"\"\"\n",
    "    Reads a CSV file from the provided URL and returns a pandas DataFrame.\n",
    "\n",
    "    Args:\n",
    "        csv_url (str): URL of the CSV file to fetch.\n",
    "    \n",
    "    Returns:\n",
    "        pd.DataFrame: DataFrame containing the CSV data.\n",
    "    \n",
    "    Raises:\n",
    "        requests.exceptions.RequestException: If there's an error fetching the URL.\n",
    "        ValueError: If the fetched content cannot be parsed into a DataFrame.\n",
    "        for example: \n",
    "            invalid_csv: \"https://github.com/im-ray/assignments/blob/main/segwise/game_data.csv\"\n",
    "            valid_csv : \"https://raw.githubusercontent.com/im-ray/assignments/main/segwise/game_data.csv\"\n",
    "\n",
    "    \"\"\"\n",
    "    try:\n",
    "        # Try reading the CSV from the URL\n",
    "        df = pd.read_csv(csv_url)\n",
    "        print(\"CSV file fetched and DataFrame created successfully!\")\n",
    "        return df\n",
    "    \n",
    "    except Exception as e:\n",
    "        # Handle exceptions such as invalid URL, malformed CSV, etc.\n",
    "        print(f\"Error reading CSV from URL: {e}\")\n",
    "        return None  # Return None in case of an error\n"
   ]
  },
  {
   "cell_type": "code",
   "execution_count": 21,
   "metadata": {},
   "outputs": [
    {
     "name": "stdout",
     "output_type": "stream",
     "text": [
      "CSV file fetched and DataFrame created successfully!\n",
      "<class 'pandas.core.frame.DataFrame'>\n",
      "RangeIndex: 100 entries, 0 to 99\n",
      "Data columns (total 20 columns):\n",
      " #   Column               Non-Null Count  Dtype  \n",
      "---  ------               --------------  -----  \n",
      " 0   Unnamed: 0           100 non-null    int64  \n",
      " 1   AppID                100 non-null    int64  \n",
      " 2   Name                 100 non-null    object \n",
      " 3   Release date         100 non-null    object \n",
      " 4   Required age         100 non-null    int64  \n",
      " 5   Price                100 non-null    float64\n",
      " 6   DLC count            100 non-null    int64  \n",
      " 7   About the game       100 non-null    object \n",
      " 8   Supported languages  100 non-null    object \n",
      " 9   Windows              100 non-null    bool   \n",
      " 10  Mac                  100 non-null    bool   \n",
      " 11  Linux                100 non-null    bool   \n",
      " 12  Positive             100 non-null    int64  \n",
      " 13  Negative             100 non-null    int64  \n",
      " 14  Score rank           0 non-null      float64\n",
      " 15  Developers           100 non-null    object \n",
      " 16  Publishers           99 non-null     object \n",
      " 17  Categories           99 non-null     object \n",
      " 18  Genres               100 non-null    object \n",
      " 19  Tags                 87 non-null     object \n",
      "dtypes: bool(3), float64(2), int64(6), object(9)\n",
      "memory usage: 13.7+ KB\n",
      "None\n"
     ]
    }
   ],
   "source": [
    "# Example of a valid CSV URL\n",
    "csv_url = \"https://raw.githubusercontent.com/im-ray/assignments/main/segwise/game_data.csv\"\n",
    "df_game_data = read_csv_from_url(csv_url)\n",
    "\n",
    "if df_game_data is not None:\n",
    "    print(df_game_data.info())  # Display the schema information\n",
    "else:\n",
    "    print(\"Failed to fetch or parse the CSV file.\")\n"
   ]
  },
  {
   "cell_type": "code",
   "execution_count": 22,
   "metadata": {},
   "outputs": [],
   "source": [
    "\n",
    "def map_df_to_schema(df):\n",
    "    \"\"\"\n",
    "    Maps the DataFrame columns to match the schema of the ClickHouse 'game_data' table.\n",
    "\n",
    "    Args:\n",
    "        df (pd.DataFrame): The DataFrame to map to the schema.\n",
    "    \n",
    "    Returns:\n",
    "        pd.DataFrame: The DataFrame with columns renamed, missing values handled, and types converted.\n",
    "    \"\"\"\n",
    "    # Step 1: Drop 'Unnamed: 0' column if it exists (index column)\n",
    "    df.drop(columns=['Unnamed: 0'], inplace=True, errors='ignore')\n",
    "\n",
    "    # Step 2: Rename columns to match the ClickHouse schema\n",
    "    rename_mapping = {\n",
    "        'AppID': 'app_id',\n",
    "        'Name': 'name',\n",
    "        'Release date': 'release_date',\n",
    "        'Required age': 'required_age',\n",
    "        'Price': 'price',\n",
    "        'DLC count': 'dlc_count',\n",
    "        'About the game': 'about_the_game',\n",
    "        'Supported languages': 'supported_languages',\n",
    "        'Windows': 'windows',\n",
    "        'Mac': 'mac',\n",
    "        'Linux': 'linux',\n",
    "        'Positive': 'positive',\n",
    "        'Negative': 'negative',\n",
    "        'Score rank': 'score_rank',\n",
    "        'Developers': 'developers',\n",
    "        'Publishers': 'publishers',\n",
    "        'Categories': 'categories',\n",
    "        'Genres': 'genres',\n",
    "        'Tags': 'tags'\n",
    "    }\n",
    "    df.rename(columns=rename_mapping, inplace=True)\n",
    "\n",
    "    # Step 3: Convert 'release_date' to datetime\n",
    "    df['release_date'] = pd.to_datetime(df['release_date'], errors='coerce')\n",
    "\n",
    "    # Step 4: Convert boolean columns to integers (0 or 1)\n",
    "    for col in ['windows', 'mac', 'linux']:\n",
    "        if col in df.columns:\n",
    "            df[col] = df[col].astype(int, errors='ignore')\n",
    "    # Return the mapped DataFrame\n",
    "    return df\n"
   ]
  },
  {
   "cell_type": "code",
   "execution_count": 23,
   "metadata": {},
   "outputs": [
    {
     "name": "stdout",
     "output_type": "stream",
     "text": [
      "<class 'pandas.core.frame.DataFrame'>\n",
      "RangeIndex: 100 entries, 0 to 99\n",
      "Data columns (total 19 columns):\n",
      " #   Column               Non-Null Count  Dtype         \n",
      "---  ------               --------------  -----         \n",
      " 0   app_id               100 non-null    int64         \n",
      " 1   name                 100 non-null    object        \n",
      " 2   release_date         99 non-null     datetime64[ns]\n",
      " 3   required_age         100 non-null    int64         \n",
      " 4   price                100 non-null    float64       \n",
      " 5   dlc_count            100 non-null    int64         \n",
      " 6   about_the_game       100 non-null    object        \n",
      " 7   supported_languages  100 non-null    object        \n",
      " 8   windows              100 non-null    int64         \n",
      " 9   mac                  100 non-null    int64         \n",
      " 10  linux                100 non-null    int64         \n",
      " 11  positive             100 non-null    int64         \n",
      " 12  negative             100 non-null    int64         \n",
      " 13  score_rank           0 non-null      float64       \n",
      " 14  developers           100 non-null    object        \n",
      " 15  publishers           99 non-null     object        \n",
      " 16  categories           99 non-null     object        \n",
      " 17  genres               100 non-null    object        \n",
      " 18  tags                 87 non-null     object        \n",
      "dtypes: datetime64[ns](1), float64(2), int64(8), object(8)\n",
      "memory usage: 15.0+ KB\n"
     ]
    }
   ],
   "source": [
    "df_mapped = map_df_to_schema(df_game_data)\n",
    "df_mapped.info()"
   ]
  },
  {
   "cell_type": "code",
   "execution_count": 25,
   "metadata": {},
   "outputs": [],
   "source": [
    "data = df_mapped.to_dict('records')"
   ]
  },
  {
   "cell_type": "code",
   "execution_count": 28,
   "metadata": {},
   "outputs": [
    {
     "name": "stdout",
     "output_type": "stream",
     "text": [
      "{'app_id': 20200, 'name': 'Galactic Bowling', 'release_date': Timestamp('2008-10-21 00:00:00'), 'required_age': 0, 'price': 19.99, 'dlc_count': 0, 'about_the_game': 'Galactic Bowling is an exaggerated and stylized bowling game with an intergalactic twist. Players will engage in fast-paced single and multi-player competition while being submerged in a unique new universe filled with over-the-top humor, wild characters, unique levels, and addictive game play. The title is aimed at players of all ages and skill sets. Through accessible and intuitive controls and game-play, Galactic Bowling allows you to jump right into the action. A single-player campaign and online play allow you to work your way up the ranks of the Galactic Bowling League! Whether you have hours to play or only a few minutes, Galactic Bowling is a fast paced and entertaining experience that will leave you wanting more! Full Single-player story campaign including 11 Characters and Environments. 2 Single-player play modes including Regular and Battle Modes. Head to Head Online Multiplayer play Modes. Super Powers, Special Balls, and Whammies. Unlockable Characters, Environments, and Minigames. Unlock all 30 Steam Achievements!', 'supported_languages': \"['English']\", 'windows': 1, 'mac': 0, 'linux': 0, 'positive': 6, 'negative': 11, 'score_rank': nan, 'developers': 'Perpetual FX Creative', 'publishers': 'Perpetual FX Creative', 'categories': 'Single-player,Multi-player,Steam Achievements,Partial Controller Support', 'genres': 'Casual,Indie,Sports', 'tags': 'Indie,Casual,Sports,Bowling'}\n"
     ]
    }
   ],
   "source": [
    "first_row = data[0]\n",
    "print(first_row)"
   ]
  },
  {
   "cell_type": "code",
   "execution_count": 30,
   "metadata": {},
   "outputs": [
    {
     "name": "stdout",
     "output_type": "stream",
     "text": [
      "<class 'list'>\n",
      "100\n",
      "<class 'dict'>\n"
     ]
    }
   ],
   "source": [
    "print(type(data))\n",
    "print(len(data))\n",
    "print(type(data[0]))"
   ]
  },
  {
   "cell_type": "code",
   "execution_count": 31,
   "metadata": {},
   "outputs": [],
   "source": [
    "insert_query = '''INSERT INTO analytics.game_data\n",
    "(app_id, name, release_date, required_age, price, dlc_count, about_the_game, supported_languages, windows, mac, linux, positive, negative, score_rank, developers, publishers, categories, genres, tags)\n",
    "VALUES'''"
   ]
  },
  {
   "cell_type": "code",
   "execution_count": 32,
   "metadata": {},
   "outputs": [
    {
     "name": "stderr",
     "output_type": "stream",
     "text": [
      "Error on localhost:9000 ping: Unexpected EOF while reading bytes\n",
      "Connection was closed, reconnecting.\n",
      "Error on socket shutdown: [Errno 57] Socket is not connected\n"
     ]
    },
    {
     "ename": "KeyboardInterrupt",
     "evalue": "",
     "output_type": "error",
     "traceback": [
      "\u001b[0;31m---------------------------------------------------------------------------\u001b[0m",
      "\u001b[0;31mKeyboardInterrupt\u001b[0m                         Traceback (most recent call last)",
      "Cell \u001b[0;32mIn[32], line 1\u001b[0m\n\u001b[0;32m----> 1\u001b[0m insert_result \u001b[38;5;241m=\u001b[39m \u001b[43mclient\u001b[49m\u001b[38;5;241;43m.\u001b[39;49m\u001b[43mexecute\u001b[49m\u001b[43m(\u001b[49m\u001b[43minsert_query\u001b[49m\u001b[43m,\u001b[49m\u001b[43m \u001b[49m\u001b[43m[\u001b[49m\u001b[43mdata\u001b[49m\u001b[43m[\u001b[49m\u001b[38;5;241;43m0\u001b[39;49m\u001b[43m]\u001b[49m\u001b[43m]\u001b[49m\u001b[43m)\u001b[49m\n\u001b[1;32m      2\u001b[0m \u001b[38;5;28mprint\u001b[39m(\u001b[38;5;124m\"\u001b[39m\u001b[38;5;124mInsert result:\u001b[39m\u001b[38;5;124m\"\u001b[39m, insert_result)\n",
      "File \u001b[0;32m~/Desktop/Assignment/assignments/segwise/segwise_env/lib/python3.9/site-packages/clickhouse_driver/client.py:376\u001b[0m, in \u001b[0;36mClient.execute\u001b[0;34m(self, query, params, with_column_types, external_tables, query_id, settings, types_check, columnar)\u001b[0m\n\u001b[1;32m    373\u001b[0m is_insert \u001b[38;5;241m=\u001b[39m \u001b[38;5;28misinstance\u001b[39m(params, (\u001b[38;5;28mlist\u001b[39m, \u001b[38;5;28mtuple\u001b[39m, types\u001b[38;5;241m.\u001b[39mGeneratorType))\n\u001b[1;32m    375\u001b[0m \u001b[38;5;28;01mif\u001b[39;00m is_insert:\n\u001b[0;32m--> 376\u001b[0m     rv \u001b[38;5;241m=\u001b[39m \u001b[38;5;28;43mself\u001b[39;49m\u001b[38;5;241;43m.\u001b[39;49m\u001b[43mprocess_insert_query\u001b[49m\u001b[43m(\u001b[49m\n\u001b[1;32m    377\u001b[0m \u001b[43m        \u001b[49m\u001b[43mquery\u001b[49m\u001b[43m,\u001b[49m\u001b[43m \u001b[49m\u001b[43mparams\u001b[49m\u001b[43m,\u001b[49m\u001b[43m \u001b[49m\u001b[43mexternal_tables\u001b[49m\u001b[38;5;241;43m=\u001b[39;49m\u001b[43mexternal_tables\u001b[49m\u001b[43m,\u001b[49m\n\u001b[1;32m    378\u001b[0m \u001b[43m        \u001b[49m\u001b[43mquery_id\u001b[49m\u001b[38;5;241;43m=\u001b[39;49m\u001b[43mquery_id\u001b[49m\u001b[43m,\u001b[49m\u001b[43m \u001b[49m\u001b[43mtypes_check\u001b[49m\u001b[38;5;241;43m=\u001b[39;49m\u001b[43mtypes_check\u001b[49m\u001b[43m,\u001b[49m\n\u001b[1;32m    379\u001b[0m \u001b[43m        \u001b[49m\u001b[43mcolumnar\u001b[49m\u001b[38;5;241;43m=\u001b[39;49m\u001b[43mcolumnar\u001b[49m\n\u001b[1;32m    380\u001b[0m \u001b[43m    \u001b[49m\u001b[43m)\u001b[49m\n\u001b[1;32m    381\u001b[0m \u001b[38;5;28;01melse\u001b[39;00m:\n\u001b[1;32m    382\u001b[0m     rv \u001b[38;5;241m=\u001b[39m \u001b[38;5;28mself\u001b[39m\u001b[38;5;241m.\u001b[39mprocess_ordinary_query(\n\u001b[1;32m    383\u001b[0m         query, params\u001b[38;5;241m=\u001b[39mparams, with_column_types\u001b[38;5;241m=\u001b[39mwith_column_types,\n\u001b[1;32m    384\u001b[0m         external_tables\u001b[38;5;241m=\u001b[39mexternal_tables,\n\u001b[1;32m    385\u001b[0m         query_id\u001b[38;5;241m=\u001b[39mquery_id, types_check\u001b[38;5;241m=\u001b[39mtypes_check,\n\u001b[1;32m    386\u001b[0m         columnar\u001b[38;5;241m=\u001b[39mcolumnar\n\u001b[1;32m    387\u001b[0m     )\n",
      "File \u001b[0;32m~/Desktop/Assignment/assignments/segwise/segwise_env/lib/python3.9/site-packages/clickhouse_driver/client.py:607\u001b[0m, in \u001b[0;36mClient.process_insert_query\u001b[0;34m(self, query_without_data, data, external_tables, query_id, types_check, columnar)\u001b[0m\n\u001b[1;32m    604\u001b[0m sample_block \u001b[38;5;241m=\u001b[39m \u001b[38;5;28mself\u001b[39m\u001b[38;5;241m.\u001b[39mreceive_sample_block()\n\u001b[1;32m    606\u001b[0m \u001b[38;5;28;01mif\u001b[39;00m sample_block:\n\u001b[0;32m--> 607\u001b[0m     rv \u001b[38;5;241m=\u001b[39m \u001b[38;5;28;43mself\u001b[39;49m\u001b[38;5;241;43m.\u001b[39;49m\u001b[43msend_data\u001b[49m\u001b[43m(\u001b[49m\u001b[43msample_block\u001b[49m\u001b[43m,\u001b[49m\u001b[43m \u001b[49m\u001b[43mdata\u001b[49m\u001b[43m,\u001b[49m\n\u001b[1;32m    608\u001b[0m \u001b[43m                        \u001b[49m\u001b[43mtypes_check\u001b[49m\u001b[38;5;241;43m=\u001b[39;49m\u001b[43mtypes_check\u001b[49m\u001b[43m,\u001b[49m\u001b[43m \u001b[49m\u001b[43mcolumnar\u001b[49m\u001b[38;5;241;43m=\u001b[39;49m\u001b[43mcolumnar\u001b[49m\u001b[43m)\u001b[49m\n\u001b[1;32m    609\u001b[0m     \u001b[38;5;28mself\u001b[39m\u001b[38;5;241m.\u001b[39mreceive_end_of_insert_query()\n\u001b[1;32m    610\u001b[0m     \u001b[38;5;28;01mreturn\u001b[39;00m rv\n",
      "File \u001b[0;32m~/Desktop/Assignment/assignments/segwise/segwise_env/lib/python3.9/site-packages/clickhouse_driver/client.py:665\u001b[0m, in \u001b[0;36mClient.send_data\u001b[0;34m(self, sample_block, data, types_check, columnar)\u001b[0m\n\u001b[1;32m    661\u001b[0m     inserted_rows \u001b[38;5;241m+\u001b[39m\u001b[38;5;241m=\u001b[39m block\u001b[38;5;241m.\u001b[39mnum_rows\n\u001b[1;32m    663\u001b[0m     \u001b[38;5;66;03m# Starting from the specific revision there are profile events\u001b[39;00m\n\u001b[1;32m    664\u001b[0m     \u001b[38;5;66;03m# sent by server in response to each inserted block\u001b[39;00m\n\u001b[0;32m--> 665\u001b[0m     \u001b[38;5;28;43mself\u001b[39;49m\u001b[38;5;241;43m.\u001b[39;49m\u001b[43mreceive_profile_events\u001b[49m\u001b[43m(\u001b[49m\u001b[43m)\u001b[49m\n\u001b[1;32m    667\u001b[0m \u001b[38;5;66;03m# Empty block means end of data.\u001b[39;00m\n\u001b[1;32m    668\u001b[0m \u001b[38;5;28mself\u001b[39m\u001b[38;5;241m.\u001b[39mconnection\u001b[38;5;241m.\u001b[39msend_data(block_cls())\n",
      "File \u001b[0;32m~/Desktop/Assignment/assignments/segwise/segwise_env/lib/python3.9/site-packages/clickhouse_driver/client.py:734\u001b[0m, in \u001b[0;36mClient.receive_profile_events\u001b[0;34m(self)\u001b[0m\n\u001b[1;32m    731\u001b[0m     \u001b[38;5;28;01mreturn\u001b[39;00m \u001b[38;5;28;01mNone\u001b[39;00m\n\u001b[1;32m    733\u001b[0m \u001b[38;5;28;01mwhile\u001b[39;00m \u001b[38;5;28;01mTrue\u001b[39;00m:\n\u001b[0;32m--> 734\u001b[0m     packet \u001b[38;5;241m=\u001b[39m \u001b[38;5;28;43mself\u001b[39;49m\u001b[38;5;241;43m.\u001b[39;49m\u001b[43mconnection\u001b[49m\u001b[38;5;241;43m.\u001b[39;49m\u001b[43mreceive_packet\u001b[49m\u001b[43m(\u001b[49m\u001b[43m)\u001b[49m\n\u001b[1;32m    736\u001b[0m     \u001b[38;5;28;01mif\u001b[39;00m packet\u001b[38;5;241m.\u001b[39mtype \u001b[38;5;241m==\u001b[39m ServerPacketTypes\u001b[38;5;241m.\u001b[39mPROFILE_EVENTS:\n\u001b[1;32m    737\u001b[0m         \u001b[38;5;28mself\u001b[39m\u001b[38;5;241m.\u001b[39mlast_query\u001b[38;5;241m.\u001b[39mstore_profile(packet\u001b[38;5;241m.\u001b[39mprofile_info)\n",
      "File \u001b[0;32m~/Desktop/Assignment/assignments/segwise/segwise_env/lib/python3.9/site-packages/clickhouse_driver/connection.py:577\u001b[0m, in \u001b[0;36mConnection.receive_packet\u001b[0;34m(self)\u001b[0m\n\u001b[1;32m    574\u001b[0m \u001b[38;5;28;01mdef\u001b[39;00m \u001b[38;5;21mreceive_packet\u001b[39m(\u001b[38;5;28mself\u001b[39m):\n\u001b[1;32m    575\u001b[0m     packet \u001b[38;5;241m=\u001b[39m Packet()\n\u001b[0;32m--> 577\u001b[0m     packet\u001b[38;5;241m.\u001b[39mtype \u001b[38;5;241m=\u001b[39m packet_type \u001b[38;5;241m=\u001b[39m \u001b[43mread_varint\u001b[49m\u001b[43m(\u001b[49m\u001b[38;5;28;43mself\u001b[39;49m\u001b[38;5;241;43m.\u001b[39;49m\u001b[43mfin\u001b[49m\u001b[43m)\u001b[49m\n\u001b[1;32m    579\u001b[0m     \u001b[38;5;28;01mif\u001b[39;00m packet_type \u001b[38;5;241m==\u001b[39m ServerPacketTypes\u001b[38;5;241m.\u001b[39mDATA:\n\u001b[1;32m    580\u001b[0m         packet\u001b[38;5;241m.\u001b[39mblock \u001b[38;5;241m=\u001b[39m \u001b[38;5;28mself\u001b[39m\u001b[38;5;241m.\u001b[39mreceive_data(may_be_use_numpy\u001b[38;5;241m=\u001b[39m\u001b[38;5;28;01mTrue\u001b[39;00m)\n",
      "File \u001b[0;32mclickhouse_driver/varint.pyx:62\u001b[0m, in \u001b[0;36mclickhouse_driver.varint.read_varint\u001b[0;34m()\u001b[0m\n",
      "File \u001b[0;32mclickhouse_driver/bufferedreader.pyx:55\u001b[0m, in \u001b[0;36mclickhouse_driver.bufferedreader.BufferedReader.read_one\u001b[0;34m()\u001b[0m\n",
      "File \u001b[0;32mclickhouse_driver/bufferedreader.pyx:237\u001b[0m, in \u001b[0;36mclickhouse_driver.bufferedreader.BufferedSocketReader.read_into_buffer\u001b[0;34m()\u001b[0m\n",
      "\u001b[0;31mKeyboardInterrupt\u001b[0m: "
     ]
    }
   ],
   "source": [
    "insert_result = client.execute(insert_query, [data[0]])\n",
    "print(\"Insert result:\", insert_result)"
   ]
  },
  {
   "cell_type": "code",
   "execution_count": 56,
   "metadata": {},
   "outputs": [
    {
     "name": "stdout",
     "output_type": "stream",
     "text": [
      "Number of rows in 'game_data': [(0,)]\n"
     ]
    }
   ],
   "source": [
    "query_result = client.execute('SELECT COUNT(*) FROM analytics.game_data')\n",
    "print(\"Number of rows in 'game_data':\", query_result)"
   ]
  },
  {
   "cell_type": "code",
   "execution_count": 34,
   "metadata": {},
   "outputs": [
    {
     "ename": "KeyboardInterrupt",
     "evalue": "",
     "output_type": "error",
     "traceback": [
      "\u001b[0;31m---------------------------------------------------------------------------\u001b[0m",
      "\u001b[0;31mKeyboardInterrupt\u001b[0m                         Traceback (most recent call last)",
      "Cell \u001b[0;32mIn[34], line 1\u001b[0m\n\u001b[0;32m----> 1\u001b[0m insert_result \u001b[38;5;241m=\u001b[39m \u001b[43mclient\u001b[49m\u001b[38;5;241;43m.\u001b[39;49m\u001b[43mexecute\u001b[49m\u001b[43m(\u001b[49m\u001b[43minsert_query\u001b[49m\u001b[43m,\u001b[49m\u001b[43m \u001b[49m\u001b[43m[\u001b[49m\u001b[43mdata\u001b[49m\u001b[43m[\u001b[49m\u001b[38;5;241;43m0\u001b[39;49m\u001b[43m]\u001b[49m\u001b[43m]\u001b[49m\u001b[43m)\u001b[49m\n\u001b[1;32m      2\u001b[0m \u001b[38;5;28mprint\u001b[39m(\u001b[38;5;124m\"\u001b[39m\u001b[38;5;124mInsert result:\u001b[39m\u001b[38;5;124m\"\u001b[39m, insert_result)\n",
      "File \u001b[0;32m~/Desktop/Assignment/assignments/segwise/segwise_env/lib/python3.9/site-packages/clickhouse_driver/client.py:376\u001b[0m, in \u001b[0;36mClient.execute\u001b[0;34m(self, query, params, with_column_types, external_tables, query_id, settings, types_check, columnar)\u001b[0m\n\u001b[1;32m    373\u001b[0m is_insert \u001b[38;5;241m=\u001b[39m \u001b[38;5;28misinstance\u001b[39m(params, (\u001b[38;5;28mlist\u001b[39m, \u001b[38;5;28mtuple\u001b[39m, types\u001b[38;5;241m.\u001b[39mGeneratorType))\n\u001b[1;32m    375\u001b[0m \u001b[38;5;28;01mif\u001b[39;00m is_insert:\n\u001b[0;32m--> 376\u001b[0m     rv \u001b[38;5;241m=\u001b[39m \u001b[38;5;28;43mself\u001b[39;49m\u001b[38;5;241;43m.\u001b[39;49m\u001b[43mprocess_insert_query\u001b[49m\u001b[43m(\u001b[49m\n\u001b[1;32m    377\u001b[0m \u001b[43m        \u001b[49m\u001b[43mquery\u001b[49m\u001b[43m,\u001b[49m\u001b[43m \u001b[49m\u001b[43mparams\u001b[49m\u001b[43m,\u001b[49m\u001b[43m \u001b[49m\u001b[43mexternal_tables\u001b[49m\u001b[38;5;241;43m=\u001b[39;49m\u001b[43mexternal_tables\u001b[49m\u001b[43m,\u001b[49m\n\u001b[1;32m    378\u001b[0m \u001b[43m        \u001b[49m\u001b[43mquery_id\u001b[49m\u001b[38;5;241;43m=\u001b[39;49m\u001b[43mquery_id\u001b[49m\u001b[43m,\u001b[49m\u001b[43m \u001b[49m\u001b[43mtypes_check\u001b[49m\u001b[38;5;241;43m=\u001b[39;49m\u001b[43mtypes_check\u001b[49m\u001b[43m,\u001b[49m\n\u001b[1;32m    379\u001b[0m \u001b[43m        \u001b[49m\u001b[43mcolumnar\u001b[49m\u001b[38;5;241;43m=\u001b[39;49m\u001b[43mcolumnar\u001b[49m\n\u001b[1;32m    380\u001b[0m \u001b[43m    \u001b[49m\u001b[43m)\u001b[49m\n\u001b[1;32m    381\u001b[0m \u001b[38;5;28;01melse\u001b[39;00m:\n\u001b[1;32m    382\u001b[0m     rv \u001b[38;5;241m=\u001b[39m \u001b[38;5;28mself\u001b[39m\u001b[38;5;241m.\u001b[39mprocess_ordinary_query(\n\u001b[1;32m    383\u001b[0m         query, params\u001b[38;5;241m=\u001b[39mparams, with_column_types\u001b[38;5;241m=\u001b[39mwith_column_types,\n\u001b[1;32m    384\u001b[0m         external_tables\u001b[38;5;241m=\u001b[39mexternal_tables,\n\u001b[1;32m    385\u001b[0m         query_id\u001b[38;5;241m=\u001b[39mquery_id, types_check\u001b[38;5;241m=\u001b[39mtypes_check,\n\u001b[1;32m    386\u001b[0m         columnar\u001b[38;5;241m=\u001b[39mcolumnar\n\u001b[1;32m    387\u001b[0m     )\n",
      "File \u001b[0;32m~/Desktop/Assignment/assignments/segwise/segwise_env/lib/python3.9/site-packages/clickhouse_driver/client.py:607\u001b[0m, in \u001b[0;36mClient.process_insert_query\u001b[0;34m(self, query_without_data, data, external_tables, query_id, types_check, columnar)\u001b[0m\n\u001b[1;32m    604\u001b[0m sample_block \u001b[38;5;241m=\u001b[39m \u001b[38;5;28mself\u001b[39m\u001b[38;5;241m.\u001b[39mreceive_sample_block()\n\u001b[1;32m    606\u001b[0m \u001b[38;5;28;01mif\u001b[39;00m sample_block:\n\u001b[0;32m--> 607\u001b[0m     rv \u001b[38;5;241m=\u001b[39m \u001b[38;5;28;43mself\u001b[39;49m\u001b[38;5;241;43m.\u001b[39;49m\u001b[43msend_data\u001b[49m\u001b[43m(\u001b[49m\u001b[43msample_block\u001b[49m\u001b[43m,\u001b[49m\u001b[43m \u001b[49m\u001b[43mdata\u001b[49m\u001b[43m,\u001b[49m\n\u001b[1;32m    608\u001b[0m \u001b[43m                        \u001b[49m\u001b[43mtypes_check\u001b[49m\u001b[38;5;241;43m=\u001b[39;49m\u001b[43mtypes_check\u001b[49m\u001b[43m,\u001b[49m\u001b[43m \u001b[49m\u001b[43mcolumnar\u001b[49m\u001b[38;5;241;43m=\u001b[39;49m\u001b[43mcolumnar\u001b[49m\u001b[43m)\u001b[49m\n\u001b[1;32m    609\u001b[0m     \u001b[38;5;28mself\u001b[39m\u001b[38;5;241m.\u001b[39mreceive_end_of_insert_query()\n\u001b[1;32m    610\u001b[0m     \u001b[38;5;28;01mreturn\u001b[39;00m rv\n",
      "File \u001b[0;32m~/Desktop/Assignment/assignments/segwise/segwise_env/lib/python3.9/site-packages/clickhouse_driver/client.py:665\u001b[0m, in \u001b[0;36mClient.send_data\u001b[0;34m(self, sample_block, data, types_check, columnar)\u001b[0m\n\u001b[1;32m    661\u001b[0m     inserted_rows \u001b[38;5;241m+\u001b[39m\u001b[38;5;241m=\u001b[39m block\u001b[38;5;241m.\u001b[39mnum_rows\n\u001b[1;32m    663\u001b[0m     \u001b[38;5;66;03m# Starting from the specific revision there are profile events\u001b[39;00m\n\u001b[1;32m    664\u001b[0m     \u001b[38;5;66;03m# sent by server in response to each inserted block\u001b[39;00m\n\u001b[0;32m--> 665\u001b[0m     \u001b[38;5;28;43mself\u001b[39;49m\u001b[38;5;241;43m.\u001b[39;49m\u001b[43mreceive_profile_events\u001b[49m\u001b[43m(\u001b[49m\u001b[43m)\u001b[49m\n\u001b[1;32m    667\u001b[0m \u001b[38;5;66;03m# Empty block means end of data.\u001b[39;00m\n\u001b[1;32m    668\u001b[0m \u001b[38;5;28mself\u001b[39m\u001b[38;5;241m.\u001b[39mconnection\u001b[38;5;241m.\u001b[39msend_data(block_cls())\n",
      "File \u001b[0;32m~/Desktop/Assignment/assignments/segwise/segwise_env/lib/python3.9/site-packages/clickhouse_driver/client.py:734\u001b[0m, in \u001b[0;36mClient.receive_profile_events\u001b[0;34m(self)\u001b[0m\n\u001b[1;32m    731\u001b[0m     \u001b[38;5;28;01mreturn\u001b[39;00m \u001b[38;5;28;01mNone\u001b[39;00m\n\u001b[1;32m    733\u001b[0m \u001b[38;5;28;01mwhile\u001b[39;00m \u001b[38;5;28;01mTrue\u001b[39;00m:\n\u001b[0;32m--> 734\u001b[0m     packet \u001b[38;5;241m=\u001b[39m \u001b[38;5;28;43mself\u001b[39;49m\u001b[38;5;241;43m.\u001b[39;49m\u001b[43mconnection\u001b[49m\u001b[38;5;241;43m.\u001b[39;49m\u001b[43mreceive_packet\u001b[49m\u001b[43m(\u001b[49m\u001b[43m)\u001b[49m\n\u001b[1;32m    736\u001b[0m     \u001b[38;5;28;01mif\u001b[39;00m packet\u001b[38;5;241m.\u001b[39mtype \u001b[38;5;241m==\u001b[39m ServerPacketTypes\u001b[38;5;241m.\u001b[39mPROFILE_EVENTS:\n\u001b[1;32m    737\u001b[0m         \u001b[38;5;28mself\u001b[39m\u001b[38;5;241m.\u001b[39mlast_query\u001b[38;5;241m.\u001b[39mstore_profile(packet\u001b[38;5;241m.\u001b[39mprofile_info)\n",
      "File \u001b[0;32m~/Desktop/Assignment/assignments/segwise/segwise_env/lib/python3.9/site-packages/clickhouse_driver/connection.py:577\u001b[0m, in \u001b[0;36mConnection.receive_packet\u001b[0;34m(self)\u001b[0m\n\u001b[1;32m    574\u001b[0m \u001b[38;5;28;01mdef\u001b[39;00m \u001b[38;5;21mreceive_packet\u001b[39m(\u001b[38;5;28mself\u001b[39m):\n\u001b[1;32m    575\u001b[0m     packet \u001b[38;5;241m=\u001b[39m Packet()\n\u001b[0;32m--> 577\u001b[0m     packet\u001b[38;5;241m.\u001b[39mtype \u001b[38;5;241m=\u001b[39m packet_type \u001b[38;5;241m=\u001b[39m \u001b[43mread_varint\u001b[49m\u001b[43m(\u001b[49m\u001b[38;5;28;43mself\u001b[39;49m\u001b[38;5;241;43m.\u001b[39;49m\u001b[43mfin\u001b[49m\u001b[43m)\u001b[49m\n\u001b[1;32m    579\u001b[0m     \u001b[38;5;28;01mif\u001b[39;00m packet_type \u001b[38;5;241m==\u001b[39m ServerPacketTypes\u001b[38;5;241m.\u001b[39mDATA:\n\u001b[1;32m    580\u001b[0m         packet\u001b[38;5;241m.\u001b[39mblock \u001b[38;5;241m=\u001b[39m \u001b[38;5;28mself\u001b[39m\u001b[38;5;241m.\u001b[39mreceive_data(may_be_use_numpy\u001b[38;5;241m=\u001b[39m\u001b[38;5;28;01mTrue\u001b[39;00m)\n",
      "File \u001b[0;32mclickhouse_driver/varint.pyx:62\u001b[0m, in \u001b[0;36mclickhouse_driver.varint.read_varint\u001b[0;34m()\u001b[0m\n",
      "File \u001b[0;32mclickhouse_driver/bufferedreader.pyx:55\u001b[0m, in \u001b[0;36mclickhouse_driver.bufferedreader.BufferedReader.read_one\u001b[0;34m()\u001b[0m\n",
      "File \u001b[0;32mclickhouse_driver/bufferedreader.pyx:237\u001b[0m, in \u001b[0;36mclickhouse_driver.bufferedreader.BufferedSocketReader.read_into_buffer\u001b[0;34m()\u001b[0m\n",
      "\u001b[0;31mKeyboardInterrupt\u001b[0m: "
     ]
    }
   ],
   "source": [
    "insert_result = client.execute(insert_query, [data[0]])\n",
    "print(\"Insert result:\", insert_result)"
   ]
  },
  {
   "cell_type": "code",
   "execution_count": 35,
   "metadata": {},
   "outputs": [
    {
     "data": {
      "text/plain": [
       "[]"
      ]
     },
     "execution_count": 35,
     "metadata": {},
     "output_type": "execute_result"
    }
   ],
   "source": [
    "client.execute('SET max_insert_block_size = 1000000')"
   ]
  },
  {
   "cell_type": "code",
   "execution_count": 39,
   "metadata": {},
   "outputs": [
    {
     "ename": "ValueError",
     "evalue": "NaTType does not support astimezone",
     "output_type": "error",
     "traceback": [
      "\u001b[0;31m---------------------------------------------------------------------------\u001b[0m",
      "\u001b[0;31mValueError\u001b[0m                                Traceback (most recent call last)",
      "Cell \u001b[0;32mIn[39], line 1\u001b[0m\n\u001b[0;32m----> 1\u001b[0m insert_result \u001b[38;5;241m=\u001b[39m \u001b[43mclient\u001b[49m\u001b[38;5;241;43m.\u001b[39;49m\u001b[43mexecute\u001b[49m\u001b[43m(\u001b[49m\u001b[43minsert_query\u001b[49m\u001b[43m,\u001b[49m\u001b[43m \u001b[49m\u001b[43mdata\u001b[49m\u001b[43m)\u001b[49m\n\u001b[1;32m      2\u001b[0m \u001b[38;5;28mprint\u001b[39m(\u001b[38;5;124m\"\u001b[39m\u001b[38;5;124mBatch Insert result:\u001b[39m\u001b[38;5;124m\"\u001b[39m, insert_result)\n",
      "File \u001b[0;32m~/Desktop/Assignment/assignments/segwise/segwise_env/lib/python3.9/site-packages/clickhouse_driver/client.py:376\u001b[0m, in \u001b[0;36mClient.execute\u001b[0;34m(self, query, params, with_column_types, external_tables, query_id, settings, types_check, columnar)\u001b[0m\n\u001b[1;32m    373\u001b[0m is_insert \u001b[38;5;241m=\u001b[39m \u001b[38;5;28misinstance\u001b[39m(params, (\u001b[38;5;28mlist\u001b[39m, \u001b[38;5;28mtuple\u001b[39m, types\u001b[38;5;241m.\u001b[39mGeneratorType))\n\u001b[1;32m    375\u001b[0m \u001b[38;5;28;01mif\u001b[39;00m is_insert:\n\u001b[0;32m--> 376\u001b[0m     rv \u001b[38;5;241m=\u001b[39m \u001b[38;5;28;43mself\u001b[39;49m\u001b[38;5;241;43m.\u001b[39;49m\u001b[43mprocess_insert_query\u001b[49m\u001b[43m(\u001b[49m\n\u001b[1;32m    377\u001b[0m \u001b[43m        \u001b[49m\u001b[43mquery\u001b[49m\u001b[43m,\u001b[49m\u001b[43m \u001b[49m\u001b[43mparams\u001b[49m\u001b[43m,\u001b[49m\u001b[43m \u001b[49m\u001b[43mexternal_tables\u001b[49m\u001b[38;5;241;43m=\u001b[39;49m\u001b[43mexternal_tables\u001b[49m\u001b[43m,\u001b[49m\n\u001b[1;32m    378\u001b[0m \u001b[43m        \u001b[49m\u001b[43mquery_id\u001b[49m\u001b[38;5;241;43m=\u001b[39;49m\u001b[43mquery_id\u001b[49m\u001b[43m,\u001b[49m\u001b[43m \u001b[49m\u001b[43mtypes_check\u001b[49m\u001b[38;5;241;43m=\u001b[39;49m\u001b[43mtypes_check\u001b[49m\u001b[43m,\u001b[49m\n\u001b[1;32m    379\u001b[0m \u001b[43m        \u001b[49m\u001b[43mcolumnar\u001b[49m\u001b[38;5;241;43m=\u001b[39;49m\u001b[43mcolumnar\u001b[49m\n\u001b[1;32m    380\u001b[0m \u001b[43m    \u001b[49m\u001b[43m)\u001b[49m\n\u001b[1;32m    381\u001b[0m \u001b[38;5;28;01melse\u001b[39;00m:\n\u001b[1;32m    382\u001b[0m     rv \u001b[38;5;241m=\u001b[39m \u001b[38;5;28mself\u001b[39m\u001b[38;5;241m.\u001b[39mprocess_ordinary_query(\n\u001b[1;32m    383\u001b[0m         query, params\u001b[38;5;241m=\u001b[39mparams, with_column_types\u001b[38;5;241m=\u001b[39mwith_column_types,\n\u001b[1;32m    384\u001b[0m         external_tables\u001b[38;5;241m=\u001b[39mexternal_tables,\n\u001b[1;32m    385\u001b[0m         query_id\u001b[38;5;241m=\u001b[39mquery_id, types_check\u001b[38;5;241m=\u001b[39mtypes_check,\n\u001b[1;32m    386\u001b[0m         columnar\u001b[38;5;241m=\u001b[39mcolumnar\n\u001b[1;32m    387\u001b[0m     )\n",
      "File \u001b[0;32m~/Desktop/Assignment/assignments/segwise/segwise_env/lib/python3.9/site-packages/clickhouse_driver/client.py:607\u001b[0m, in \u001b[0;36mClient.process_insert_query\u001b[0;34m(self, query_without_data, data, external_tables, query_id, types_check, columnar)\u001b[0m\n\u001b[1;32m    604\u001b[0m sample_block \u001b[38;5;241m=\u001b[39m \u001b[38;5;28mself\u001b[39m\u001b[38;5;241m.\u001b[39mreceive_sample_block()\n\u001b[1;32m    606\u001b[0m \u001b[38;5;28;01mif\u001b[39;00m sample_block:\n\u001b[0;32m--> 607\u001b[0m     rv \u001b[38;5;241m=\u001b[39m \u001b[38;5;28;43mself\u001b[39;49m\u001b[38;5;241;43m.\u001b[39;49m\u001b[43msend_data\u001b[49m\u001b[43m(\u001b[49m\u001b[43msample_block\u001b[49m\u001b[43m,\u001b[49m\u001b[43m \u001b[49m\u001b[43mdata\u001b[49m\u001b[43m,\u001b[49m\n\u001b[1;32m    608\u001b[0m \u001b[43m                        \u001b[49m\u001b[43mtypes_check\u001b[49m\u001b[38;5;241;43m=\u001b[39;49m\u001b[43mtypes_check\u001b[49m\u001b[43m,\u001b[49m\u001b[43m \u001b[49m\u001b[43mcolumnar\u001b[49m\u001b[38;5;241;43m=\u001b[39;49m\u001b[43mcolumnar\u001b[49m\u001b[43m)\u001b[49m\n\u001b[1;32m    609\u001b[0m     \u001b[38;5;28mself\u001b[39m\u001b[38;5;241m.\u001b[39mreceive_end_of_insert_query()\n\u001b[1;32m    610\u001b[0m     \u001b[38;5;28;01mreturn\u001b[39;00m rv\n",
      "File \u001b[0;32m~/Desktop/Assignment/assignments/segwise/segwise_env/lib/python3.9/site-packages/clickhouse_driver/client.py:660\u001b[0m, in \u001b[0;36mClient.send_data\u001b[0;34m(self, sample_block, data, types_check, columnar)\u001b[0m\n\u001b[1;32m    657\u001b[0m \u001b[38;5;28;01mfor\u001b[39;00m chunk \u001b[38;5;129;01min\u001b[39;00m slicer(data, client_settings[\u001b[38;5;124m'\u001b[39m\u001b[38;5;124minsert_block_size\u001b[39m\u001b[38;5;124m'\u001b[39m]):\n\u001b[1;32m    658\u001b[0m     block \u001b[38;5;241m=\u001b[39m block_cls(sample_block\u001b[38;5;241m.\u001b[39mcolumns_with_types, chunk,\n\u001b[1;32m    659\u001b[0m                       types_check\u001b[38;5;241m=\u001b[39mtypes_check)\n\u001b[0;32m--> 660\u001b[0m     \u001b[38;5;28;43mself\u001b[39;49m\u001b[38;5;241;43m.\u001b[39;49m\u001b[43mconnection\u001b[49m\u001b[38;5;241;43m.\u001b[39;49m\u001b[43msend_data\u001b[49m\u001b[43m(\u001b[49m\u001b[43mblock\u001b[49m\u001b[43m)\u001b[49m\n\u001b[1;32m    661\u001b[0m     inserted_rows \u001b[38;5;241m+\u001b[39m\u001b[38;5;241m=\u001b[39m block\u001b[38;5;241m.\u001b[39mnum_rows\n\u001b[1;32m    663\u001b[0m     \u001b[38;5;66;03m# Starting from the specific revision there are profile events\u001b[39;00m\n\u001b[1;32m    664\u001b[0m     \u001b[38;5;66;03m# sent by server in response to each inserted block\u001b[39;00m\n",
      "File \u001b[0;32m~/Desktop/Assignment/assignments/segwise/segwise_env/lib/python3.9/site-packages/clickhouse_driver/connection.py:688\u001b[0m, in \u001b[0;36mConnection.send_data\u001b[0;34m(self, block, table_name)\u001b[0m\n\u001b[1;32m    685\u001b[0m \u001b[38;5;28;01mif\u001b[39;00m revision \u001b[38;5;241m>\u001b[39m\u001b[38;5;241m=\u001b[39m defines\u001b[38;5;241m.\u001b[39mDBMS_MIN_REVISION_WITH_TEMPORARY_TABLES:\n\u001b[1;32m    686\u001b[0m     write_binary_str(table_name, \u001b[38;5;28mself\u001b[39m\u001b[38;5;241m.\u001b[39mfout)\n\u001b[0;32m--> 688\u001b[0m \u001b[38;5;28;43mself\u001b[39;49m\u001b[38;5;241;43m.\u001b[39;49m\u001b[43mblock_out\u001b[49m\u001b[38;5;241;43m.\u001b[39;49m\u001b[43mwrite\u001b[49m\u001b[43m(\u001b[49m\u001b[43mblock\u001b[49m\u001b[43m)\u001b[49m\n\u001b[1;32m    689\u001b[0m logger\u001b[38;5;241m.\u001b[39mdebug(\u001b[38;5;124m'\u001b[39m\u001b[38;5;124mBlock \u001b[39m\u001b[38;5;124m\"\u001b[39m\u001b[38;5;132;01m%s\u001b[39;00m\u001b[38;5;124m\"\u001b[39m\u001b[38;5;124m send time: \u001b[39m\u001b[38;5;132;01m%f\u001b[39;00m\u001b[38;5;124m'\u001b[39m, table_name, time() \u001b[38;5;241m-\u001b[39m start)\n",
      "File \u001b[0;32m~/Desktop/Assignment/assignments/segwise/segwise_env/lib/python3.9/site-packages/clickhouse_driver/streams/native.py:48\u001b[0m, in \u001b[0;36mBlockOutputStream.write\u001b[0;34m(self, block)\u001b[0m\n\u001b[1;32m     45\u001b[0m             write_binary_uint8(\u001b[38;5;241m0\u001b[39m, \u001b[38;5;28mself\u001b[39m\u001b[38;5;241m.\u001b[39mfout)\n\u001b[1;32m     47\u001b[0m         logger\u001b[38;5;241m.\u001b[39mdebug(\u001b[38;5;124m'\u001b[39m\u001b[38;5;124mWriting column \u001b[39m\u001b[38;5;132;01m%s\u001b[39;00m\u001b[38;5;124m'\u001b[39m, col_name)\n\u001b[0;32m---> 48\u001b[0m         \u001b[43mwrite_column\u001b[49m\u001b[43m(\u001b[49m\u001b[38;5;28;43mself\u001b[39;49m\u001b[38;5;241;43m.\u001b[39;49m\u001b[43mcontext\u001b[49m\u001b[43m,\u001b[49m\u001b[43m \u001b[49m\u001b[43mcol_name\u001b[49m\u001b[43m,\u001b[49m\u001b[43m \u001b[49m\u001b[43mcol_type\u001b[49m\u001b[43m,\u001b[49m\u001b[43m \u001b[49m\u001b[43mitems\u001b[49m\u001b[43m,\u001b[49m\n\u001b[1;32m     49\u001b[0m \u001b[43m                     \u001b[49m\u001b[38;5;28;43mself\u001b[39;49m\u001b[38;5;241;43m.\u001b[39;49m\u001b[43mfout\u001b[49m\u001b[43m,\u001b[49m\u001b[43m \u001b[49m\u001b[43mtypes_check\u001b[49m\u001b[38;5;241;43m=\u001b[39;49m\u001b[43mblock\u001b[49m\u001b[38;5;241;43m.\u001b[39;49m\u001b[43mtypes_check\u001b[49m\u001b[43m)\u001b[49m\n\u001b[1;32m     51\u001b[0m \u001b[38;5;28mself\u001b[39m\u001b[38;5;241m.\u001b[39mfinalize()\n",
      "File \u001b[0;32m~/Desktop/Assignment/assignments/segwise/segwise_env/lib/python3.9/site-packages/clickhouse_driver/columns/service.py:167\u001b[0m, in \u001b[0;36mwrite_column\u001b[0;34m(context, column_name, column_spec, items, buf, types_check)\u001b[0m\n\u001b[1;32m    165\u001b[0m \u001b[38;5;28;01mtry\u001b[39;00m:\n\u001b[1;32m    166\u001b[0m     column\u001b[38;5;241m.\u001b[39mwrite_state_prefix(buf)\n\u001b[0;32m--> 167\u001b[0m     \u001b[43mcolumn\u001b[49m\u001b[38;5;241;43m.\u001b[39;49m\u001b[43mwrite_data\u001b[49m\u001b[43m(\u001b[49m\u001b[43mitems\u001b[49m\u001b[43m,\u001b[49m\u001b[43m \u001b[49m\u001b[43mbuf\u001b[49m\u001b[43m)\u001b[49m\n\u001b[1;32m    169\u001b[0m \u001b[38;5;28;01mexcept\u001b[39;00m column_exceptions\u001b[38;5;241m.\u001b[39mColumnTypeMismatchException \u001b[38;5;28;01mas\u001b[39;00m e:\n\u001b[1;32m    170\u001b[0m     \u001b[38;5;28;01mraise\u001b[39;00m errors\u001b[38;5;241m.\u001b[39mTypeMismatchError(\n\u001b[1;32m    171\u001b[0m         \u001b[38;5;124m'\u001b[39m\u001b[38;5;124mType mismatch in VALUES section. \u001b[39m\u001b[38;5;124m'\u001b[39m\n\u001b[1;32m    172\u001b[0m         \u001b[38;5;124m'\u001b[39m\u001b[38;5;124mExpected \u001b[39m\u001b[38;5;132;01m{}\u001b[39;00m\u001b[38;5;124m got \u001b[39m\u001b[38;5;132;01m{}\u001b[39;00m\u001b[38;5;124m: \u001b[39m\u001b[38;5;132;01m{}\u001b[39;00m\u001b[38;5;124m for column \u001b[39m\u001b[38;5;124m\"\u001b[39m\u001b[38;5;132;01m{}\u001b[39;00m\u001b[38;5;124m\"\u001b[39m\u001b[38;5;124m.\u001b[39m\u001b[38;5;124m'\u001b[39m\u001b[38;5;241m.\u001b[39mformat(\n\u001b[1;32m    173\u001b[0m             column_spec, \u001b[38;5;28mtype\u001b[39m(e\u001b[38;5;241m.\u001b[39margs[\u001b[38;5;241m0\u001b[39m]), e\u001b[38;5;241m.\u001b[39margs[\u001b[38;5;241m0\u001b[39m], column_name\n\u001b[1;32m    174\u001b[0m         )\n\u001b[1;32m    175\u001b[0m     )\n",
      "File \u001b[0;32m~/Desktop/Assignment/assignments/segwise/segwise_env/lib/python3.9/site-packages/clickhouse_driver/columns/base.py:145\u001b[0m, in \u001b[0;36mColumn.write_data\u001b[0;34m(self, items, buf)\u001b[0m\n\u001b[1;32m    142\u001b[0m \u001b[38;5;28;01mif\u001b[39;00m \u001b[38;5;28mself\u001b[39m\u001b[38;5;241m.\u001b[39mnullable:\n\u001b[1;32m    143\u001b[0m     \u001b[38;5;28mself\u001b[39m\u001b[38;5;241m.\u001b[39m_write_nulls_map(items, buf)\n\u001b[0;32m--> 145\u001b[0m \u001b[38;5;28;43mself\u001b[39;49m\u001b[38;5;241;43m.\u001b[39;49m\u001b[43m_write_data\u001b[49m\u001b[43m(\u001b[49m\u001b[43mitems\u001b[49m\u001b[43m,\u001b[49m\u001b[43m \u001b[49m\u001b[43mbuf\u001b[49m\u001b[43m)\u001b[49m\n",
      "File \u001b[0;32m~/Desktop/Assignment/assignments/segwise/segwise_env/lib/python3.9/site-packages/clickhouse_driver/columns/base.py:148\u001b[0m, in \u001b[0;36mColumn._write_data\u001b[0;34m(self, items, buf)\u001b[0m\n\u001b[1;32m    147\u001b[0m \u001b[38;5;28;01mdef\u001b[39;00m \u001b[38;5;21m_write_data\u001b[39m(\u001b[38;5;28mself\u001b[39m, items, buf):\n\u001b[0;32m--> 148\u001b[0m     prepared \u001b[38;5;241m=\u001b[39m \u001b[38;5;28;43mself\u001b[39;49m\u001b[38;5;241;43m.\u001b[39;49m\u001b[43mprepare_items\u001b[49m\u001b[43m(\u001b[49m\u001b[43mitems\u001b[49m\u001b[43m)\u001b[49m\n\u001b[1;32m    149\u001b[0m     \u001b[38;5;28mself\u001b[39m\u001b[38;5;241m.\u001b[39mwrite_items(prepared, buf)\n",
      "File \u001b[0;32m~/Desktop/Assignment/assignments/segwise/segwise_env/lib/python3.9/site-packages/clickhouse_driver/columns/base.py:137\u001b[0m, in \u001b[0;36mColumn.prepare_items\u001b[0;34m(self, items)\u001b[0m\n\u001b[1;32m    134\u001b[0m     items[i] \u001b[38;5;241m=\u001b[39m x\n\u001b[1;32m    136\u001b[0m \u001b[38;5;28;01mif\u001b[39;00m \u001b[38;5;28mself\u001b[39m\u001b[38;5;241m.\u001b[39mbefore_write_items:\n\u001b[0;32m--> 137\u001b[0m     \u001b[38;5;28;43mself\u001b[39;49m\u001b[38;5;241;43m.\u001b[39;49m\u001b[43mbefore_write_items\u001b[49m\u001b[43m(\u001b[49m\u001b[43mitems\u001b[49m\u001b[43m,\u001b[49m\u001b[43m \u001b[49m\u001b[43mnulls_map\u001b[49m\u001b[38;5;241;43m=\u001b[39;49m\u001b[43mnulls_map\u001b[49m\u001b[43m)\u001b[49m\n\u001b[1;32m    139\u001b[0m \u001b[38;5;28;01mreturn\u001b[39;00m items\n",
      "File \u001b[0;32m~/Desktop/Assignment/assignments/segwise/segwise_env/lib/python3.9/site-packages/clickhouse_driver/columns/datetimecolumn.py:77\u001b[0m, in \u001b[0;36mDateTimeColumn.before_write_items\u001b[0;34m(self, items, nulls_map)\u001b[0m\n\u001b[1;32m     74\u001b[0m     \u001b[38;5;28;01mif\u001b[39;00m item\u001b[38;5;241m.\u001b[39mtzinfo \u001b[38;5;129;01mis\u001b[39;00m \u001b[38;5;28;01mNone\u001b[39;00m:\n\u001b[1;32m     75\u001b[0m         item \u001b[38;5;241m=\u001b[39m timezone\u001b[38;5;241m.\u001b[39mlocalize(item)\n\u001b[0;32m---> 77\u001b[0m     item \u001b[38;5;241m=\u001b[39m \u001b[43mitem\u001b[49m\u001b[38;5;241;43m.\u001b[39;49m\u001b[43mastimezone\u001b[49m\u001b[43m(\u001b[49m\u001b[43mutc\u001b[49m\u001b[43m)\u001b[49m\n\u001b[1;32m     79\u001b[0m \u001b[38;5;28;01melse\u001b[39;00m:\n\u001b[1;32m     80\u001b[0m     \u001b[38;5;66;03m# If datetime is offset-aware use it's timezone.\u001b[39;00m\n\u001b[1;32m     81\u001b[0m     \u001b[38;5;28;01mif\u001b[39;00m item\u001b[38;5;241m.\u001b[39mtzinfo \u001b[38;5;129;01mis\u001b[39;00m \u001b[38;5;129;01mnot\u001b[39;00m \u001b[38;5;28;01mNone\u001b[39;00m:\n",
      "File \u001b[0;32mnattype.pyx:54\u001b[0m, in \u001b[0;36mpandas._libs.tslibs.nattype._make_error_func.f\u001b[0;34m()\u001b[0m\n",
      "\u001b[0;31mValueError\u001b[0m: NaTType does not support astimezone"
     ]
    }
   ],
   "source": [
    "insert_result = client.execute(insert_query, data)\n",
    "print(\"Batch Insert result:\", insert_result)"
   ]
  },
  {
   "cell_type": "code",
   "execution_count": 40,
   "metadata": {},
   "outputs": [],
   "source": [
    "df_mapped['release_date'] = df_mapped['release_date'].where(df_mapped['release_date'].notna(), None)"
   ]
  },
  {
   "cell_type": "code",
   "execution_count": 41,
   "metadata": {},
   "outputs": [
    {
     "ename": "ValueError",
     "evalue": "NaTType does not support astimezone",
     "output_type": "error",
     "traceback": [
      "\u001b[0;31m---------------------------------------------------------------------------\u001b[0m",
      "\u001b[0;31mValueError\u001b[0m                                Traceback (most recent call last)",
      "Cell \u001b[0;32mIn[41], line 1\u001b[0m\n\u001b[0;32m----> 1\u001b[0m insert_result \u001b[38;5;241m=\u001b[39m \u001b[43mclient\u001b[49m\u001b[38;5;241;43m.\u001b[39;49m\u001b[43mexecute\u001b[49m\u001b[43m(\u001b[49m\u001b[43minsert_query\u001b[49m\u001b[43m,\u001b[49m\u001b[43m \u001b[49m\u001b[43mdf_mapped\u001b[49m\u001b[38;5;241;43m.\u001b[39;49m\u001b[43mto_dict\u001b[49m\u001b[43m(\u001b[49m\u001b[38;5;124;43m'\u001b[39;49m\u001b[38;5;124;43mrecords\u001b[39;49m\u001b[38;5;124;43m'\u001b[39;49m\u001b[43m)\u001b[49m\u001b[43m)\u001b[49m\n\u001b[1;32m      2\u001b[0m \u001b[38;5;28mprint\u001b[39m(\u001b[38;5;124m\"\u001b[39m\u001b[38;5;124mBatch Insert result:\u001b[39m\u001b[38;5;124m\"\u001b[39m, insert_result)\n",
      "File \u001b[0;32m~/Desktop/Assignment/assignments/segwise/segwise_env/lib/python3.9/site-packages/clickhouse_driver/client.py:376\u001b[0m, in \u001b[0;36mClient.execute\u001b[0;34m(self, query, params, with_column_types, external_tables, query_id, settings, types_check, columnar)\u001b[0m\n\u001b[1;32m    373\u001b[0m is_insert \u001b[38;5;241m=\u001b[39m \u001b[38;5;28misinstance\u001b[39m(params, (\u001b[38;5;28mlist\u001b[39m, \u001b[38;5;28mtuple\u001b[39m, types\u001b[38;5;241m.\u001b[39mGeneratorType))\n\u001b[1;32m    375\u001b[0m \u001b[38;5;28;01mif\u001b[39;00m is_insert:\n\u001b[0;32m--> 376\u001b[0m     rv \u001b[38;5;241m=\u001b[39m \u001b[38;5;28;43mself\u001b[39;49m\u001b[38;5;241;43m.\u001b[39;49m\u001b[43mprocess_insert_query\u001b[49m\u001b[43m(\u001b[49m\n\u001b[1;32m    377\u001b[0m \u001b[43m        \u001b[49m\u001b[43mquery\u001b[49m\u001b[43m,\u001b[49m\u001b[43m \u001b[49m\u001b[43mparams\u001b[49m\u001b[43m,\u001b[49m\u001b[43m \u001b[49m\u001b[43mexternal_tables\u001b[49m\u001b[38;5;241;43m=\u001b[39;49m\u001b[43mexternal_tables\u001b[49m\u001b[43m,\u001b[49m\n\u001b[1;32m    378\u001b[0m \u001b[43m        \u001b[49m\u001b[43mquery_id\u001b[49m\u001b[38;5;241;43m=\u001b[39;49m\u001b[43mquery_id\u001b[49m\u001b[43m,\u001b[49m\u001b[43m \u001b[49m\u001b[43mtypes_check\u001b[49m\u001b[38;5;241;43m=\u001b[39;49m\u001b[43mtypes_check\u001b[49m\u001b[43m,\u001b[49m\n\u001b[1;32m    379\u001b[0m \u001b[43m        \u001b[49m\u001b[43mcolumnar\u001b[49m\u001b[38;5;241;43m=\u001b[39;49m\u001b[43mcolumnar\u001b[49m\n\u001b[1;32m    380\u001b[0m \u001b[43m    \u001b[49m\u001b[43m)\u001b[49m\n\u001b[1;32m    381\u001b[0m \u001b[38;5;28;01melse\u001b[39;00m:\n\u001b[1;32m    382\u001b[0m     rv \u001b[38;5;241m=\u001b[39m \u001b[38;5;28mself\u001b[39m\u001b[38;5;241m.\u001b[39mprocess_ordinary_query(\n\u001b[1;32m    383\u001b[0m         query, params\u001b[38;5;241m=\u001b[39mparams, with_column_types\u001b[38;5;241m=\u001b[39mwith_column_types,\n\u001b[1;32m    384\u001b[0m         external_tables\u001b[38;5;241m=\u001b[39mexternal_tables,\n\u001b[1;32m    385\u001b[0m         query_id\u001b[38;5;241m=\u001b[39mquery_id, types_check\u001b[38;5;241m=\u001b[39mtypes_check,\n\u001b[1;32m    386\u001b[0m         columnar\u001b[38;5;241m=\u001b[39mcolumnar\n\u001b[1;32m    387\u001b[0m     )\n",
      "File \u001b[0;32m~/Desktop/Assignment/assignments/segwise/segwise_env/lib/python3.9/site-packages/clickhouse_driver/client.py:607\u001b[0m, in \u001b[0;36mClient.process_insert_query\u001b[0;34m(self, query_without_data, data, external_tables, query_id, types_check, columnar)\u001b[0m\n\u001b[1;32m    604\u001b[0m sample_block \u001b[38;5;241m=\u001b[39m \u001b[38;5;28mself\u001b[39m\u001b[38;5;241m.\u001b[39mreceive_sample_block()\n\u001b[1;32m    606\u001b[0m \u001b[38;5;28;01mif\u001b[39;00m sample_block:\n\u001b[0;32m--> 607\u001b[0m     rv \u001b[38;5;241m=\u001b[39m \u001b[38;5;28;43mself\u001b[39;49m\u001b[38;5;241;43m.\u001b[39;49m\u001b[43msend_data\u001b[49m\u001b[43m(\u001b[49m\u001b[43msample_block\u001b[49m\u001b[43m,\u001b[49m\u001b[43m \u001b[49m\u001b[43mdata\u001b[49m\u001b[43m,\u001b[49m\n\u001b[1;32m    608\u001b[0m \u001b[43m                        \u001b[49m\u001b[43mtypes_check\u001b[49m\u001b[38;5;241;43m=\u001b[39;49m\u001b[43mtypes_check\u001b[49m\u001b[43m,\u001b[49m\u001b[43m \u001b[49m\u001b[43mcolumnar\u001b[49m\u001b[38;5;241;43m=\u001b[39;49m\u001b[43mcolumnar\u001b[49m\u001b[43m)\u001b[49m\n\u001b[1;32m    609\u001b[0m     \u001b[38;5;28mself\u001b[39m\u001b[38;5;241m.\u001b[39mreceive_end_of_insert_query()\n\u001b[1;32m    610\u001b[0m     \u001b[38;5;28;01mreturn\u001b[39;00m rv\n",
      "File \u001b[0;32m~/Desktop/Assignment/assignments/segwise/segwise_env/lib/python3.9/site-packages/clickhouse_driver/client.py:660\u001b[0m, in \u001b[0;36mClient.send_data\u001b[0;34m(self, sample_block, data, types_check, columnar)\u001b[0m\n\u001b[1;32m    657\u001b[0m \u001b[38;5;28;01mfor\u001b[39;00m chunk \u001b[38;5;129;01min\u001b[39;00m slicer(data, client_settings[\u001b[38;5;124m'\u001b[39m\u001b[38;5;124minsert_block_size\u001b[39m\u001b[38;5;124m'\u001b[39m]):\n\u001b[1;32m    658\u001b[0m     block \u001b[38;5;241m=\u001b[39m block_cls(sample_block\u001b[38;5;241m.\u001b[39mcolumns_with_types, chunk,\n\u001b[1;32m    659\u001b[0m                       types_check\u001b[38;5;241m=\u001b[39mtypes_check)\n\u001b[0;32m--> 660\u001b[0m     \u001b[38;5;28;43mself\u001b[39;49m\u001b[38;5;241;43m.\u001b[39;49m\u001b[43mconnection\u001b[49m\u001b[38;5;241;43m.\u001b[39;49m\u001b[43msend_data\u001b[49m\u001b[43m(\u001b[49m\u001b[43mblock\u001b[49m\u001b[43m)\u001b[49m\n\u001b[1;32m    661\u001b[0m     inserted_rows \u001b[38;5;241m+\u001b[39m\u001b[38;5;241m=\u001b[39m block\u001b[38;5;241m.\u001b[39mnum_rows\n\u001b[1;32m    663\u001b[0m     \u001b[38;5;66;03m# Starting from the specific revision there are profile events\u001b[39;00m\n\u001b[1;32m    664\u001b[0m     \u001b[38;5;66;03m# sent by server in response to each inserted block\u001b[39;00m\n",
      "File \u001b[0;32m~/Desktop/Assignment/assignments/segwise/segwise_env/lib/python3.9/site-packages/clickhouse_driver/connection.py:688\u001b[0m, in \u001b[0;36mConnection.send_data\u001b[0;34m(self, block, table_name)\u001b[0m\n\u001b[1;32m    685\u001b[0m \u001b[38;5;28;01mif\u001b[39;00m revision \u001b[38;5;241m>\u001b[39m\u001b[38;5;241m=\u001b[39m defines\u001b[38;5;241m.\u001b[39mDBMS_MIN_REVISION_WITH_TEMPORARY_TABLES:\n\u001b[1;32m    686\u001b[0m     write_binary_str(table_name, \u001b[38;5;28mself\u001b[39m\u001b[38;5;241m.\u001b[39mfout)\n\u001b[0;32m--> 688\u001b[0m \u001b[38;5;28;43mself\u001b[39;49m\u001b[38;5;241;43m.\u001b[39;49m\u001b[43mblock_out\u001b[49m\u001b[38;5;241;43m.\u001b[39;49m\u001b[43mwrite\u001b[49m\u001b[43m(\u001b[49m\u001b[43mblock\u001b[49m\u001b[43m)\u001b[49m\n\u001b[1;32m    689\u001b[0m logger\u001b[38;5;241m.\u001b[39mdebug(\u001b[38;5;124m'\u001b[39m\u001b[38;5;124mBlock \u001b[39m\u001b[38;5;124m\"\u001b[39m\u001b[38;5;132;01m%s\u001b[39;00m\u001b[38;5;124m\"\u001b[39m\u001b[38;5;124m send time: \u001b[39m\u001b[38;5;132;01m%f\u001b[39;00m\u001b[38;5;124m'\u001b[39m, table_name, time() \u001b[38;5;241m-\u001b[39m start)\n",
      "File \u001b[0;32m~/Desktop/Assignment/assignments/segwise/segwise_env/lib/python3.9/site-packages/clickhouse_driver/streams/native.py:48\u001b[0m, in \u001b[0;36mBlockOutputStream.write\u001b[0;34m(self, block)\u001b[0m\n\u001b[1;32m     45\u001b[0m             write_binary_uint8(\u001b[38;5;241m0\u001b[39m, \u001b[38;5;28mself\u001b[39m\u001b[38;5;241m.\u001b[39mfout)\n\u001b[1;32m     47\u001b[0m         logger\u001b[38;5;241m.\u001b[39mdebug(\u001b[38;5;124m'\u001b[39m\u001b[38;5;124mWriting column \u001b[39m\u001b[38;5;132;01m%s\u001b[39;00m\u001b[38;5;124m'\u001b[39m, col_name)\n\u001b[0;32m---> 48\u001b[0m         \u001b[43mwrite_column\u001b[49m\u001b[43m(\u001b[49m\u001b[38;5;28;43mself\u001b[39;49m\u001b[38;5;241;43m.\u001b[39;49m\u001b[43mcontext\u001b[49m\u001b[43m,\u001b[49m\u001b[43m \u001b[49m\u001b[43mcol_name\u001b[49m\u001b[43m,\u001b[49m\u001b[43m \u001b[49m\u001b[43mcol_type\u001b[49m\u001b[43m,\u001b[49m\u001b[43m \u001b[49m\u001b[43mitems\u001b[49m\u001b[43m,\u001b[49m\n\u001b[1;32m     49\u001b[0m \u001b[43m                     \u001b[49m\u001b[38;5;28;43mself\u001b[39;49m\u001b[38;5;241;43m.\u001b[39;49m\u001b[43mfout\u001b[49m\u001b[43m,\u001b[49m\u001b[43m \u001b[49m\u001b[43mtypes_check\u001b[49m\u001b[38;5;241;43m=\u001b[39;49m\u001b[43mblock\u001b[49m\u001b[38;5;241;43m.\u001b[39;49m\u001b[43mtypes_check\u001b[49m\u001b[43m)\u001b[49m\n\u001b[1;32m     51\u001b[0m \u001b[38;5;28mself\u001b[39m\u001b[38;5;241m.\u001b[39mfinalize()\n",
      "File \u001b[0;32m~/Desktop/Assignment/assignments/segwise/segwise_env/lib/python3.9/site-packages/clickhouse_driver/columns/service.py:167\u001b[0m, in \u001b[0;36mwrite_column\u001b[0;34m(context, column_name, column_spec, items, buf, types_check)\u001b[0m\n\u001b[1;32m    165\u001b[0m \u001b[38;5;28;01mtry\u001b[39;00m:\n\u001b[1;32m    166\u001b[0m     column\u001b[38;5;241m.\u001b[39mwrite_state_prefix(buf)\n\u001b[0;32m--> 167\u001b[0m     \u001b[43mcolumn\u001b[49m\u001b[38;5;241;43m.\u001b[39;49m\u001b[43mwrite_data\u001b[49m\u001b[43m(\u001b[49m\u001b[43mitems\u001b[49m\u001b[43m,\u001b[49m\u001b[43m \u001b[49m\u001b[43mbuf\u001b[49m\u001b[43m)\u001b[49m\n\u001b[1;32m    169\u001b[0m \u001b[38;5;28;01mexcept\u001b[39;00m column_exceptions\u001b[38;5;241m.\u001b[39mColumnTypeMismatchException \u001b[38;5;28;01mas\u001b[39;00m e:\n\u001b[1;32m    170\u001b[0m     \u001b[38;5;28;01mraise\u001b[39;00m errors\u001b[38;5;241m.\u001b[39mTypeMismatchError(\n\u001b[1;32m    171\u001b[0m         \u001b[38;5;124m'\u001b[39m\u001b[38;5;124mType mismatch in VALUES section. \u001b[39m\u001b[38;5;124m'\u001b[39m\n\u001b[1;32m    172\u001b[0m         \u001b[38;5;124m'\u001b[39m\u001b[38;5;124mExpected \u001b[39m\u001b[38;5;132;01m{}\u001b[39;00m\u001b[38;5;124m got \u001b[39m\u001b[38;5;132;01m{}\u001b[39;00m\u001b[38;5;124m: \u001b[39m\u001b[38;5;132;01m{}\u001b[39;00m\u001b[38;5;124m for column \u001b[39m\u001b[38;5;124m\"\u001b[39m\u001b[38;5;132;01m{}\u001b[39;00m\u001b[38;5;124m\"\u001b[39m\u001b[38;5;124m.\u001b[39m\u001b[38;5;124m'\u001b[39m\u001b[38;5;241m.\u001b[39mformat(\n\u001b[1;32m    173\u001b[0m             column_spec, \u001b[38;5;28mtype\u001b[39m(e\u001b[38;5;241m.\u001b[39margs[\u001b[38;5;241m0\u001b[39m]), e\u001b[38;5;241m.\u001b[39margs[\u001b[38;5;241m0\u001b[39m], column_name\n\u001b[1;32m    174\u001b[0m         )\n\u001b[1;32m    175\u001b[0m     )\n",
      "File \u001b[0;32m~/Desktop/Assignment/assignments/segwise/segwise_env/lib/python3.9/site-packages/clickhouse_driver/columns/base.py:145\u001b[0m, in \u001b[0;36mColumn.write_data\u001b[0;34m(self, items, buf)\u001b[0m\n\u001b[1;32m    142\u001b[0m \u001b[38;5;28;01mif\u001b[39;00m \u001b[38;5;28mself\u001b[39m\u001b[38;5;241m.\u001b[39mnullable:\n\u001b[1;32m    143\u001b[0m     \u001b[38;5;28mself\u001b[39m\u001b[38;5;241m.\u001b[39m_write_nulls_map(items, buf)\n\u001b[0;32m--> 145\u001b[0m \u001b[38;5;28;43mself\u001b[39;49m\u001b[38;5;241;43m.\u001b[39;49m\u001b[43m_write_data\u001b[49m\u001b[43m(\u001b[49m\u001b[43mitems\u001b[49m\u001b[43m,\u001b[49m\u001b[43m \u001b[49m\u001b[43mbuf\u001b[49m\u001b[43m)\u001b[49m\n",
      "File \u001b[0;32m~/Desktop/Assignment/assignments/segwise/segwise_env/lib/python3.9/site-packages/clickhouse_driver/columns/base.py:148\u001b[0m, in \u001b[0;36mColumn._write_data\u001b[0;34m(self, items, buf)\u001b[0m\n\u001b[1;32m    147\u001b[0m \u001b[38;5;28;01mdef\u001b[39;00m \u001b[38;5;21m_write_data\u001b[39m(\u001b[38;5;28mself\u001b[39m, items, buf):\n\u001b[0;32m--> 148\u001b[0m     prepared \u001b[38;5;241m=\u001b[39m \u001b[38;5;28;43mself\u001b[39;49m\u001b[38;5;241;43m.\u001b[39;49m\u001b[43mprepare_items\u001b[49m\u001b[43m(\u001b[49m\u001b[43mitems\u001b[49m\u001b[43m)\u001b[49m\n\u001b[1;32m    149\u001b[0m     \u001b[38;5;28mself\u001b[39m\u001b[38;5;241m.\u001b[39mwrite_items(prepared, buf)\n",
      "File \u001b[0;32m~/Desktop/Assignment/assignments/segwise/segwise_env/lib/python3.9/site-packages/clickhouse_driver/columns/base.py:137\u001b[0m, in \u001b[0;36mColumn.prepare_items\u001b[0;34m(self, items)\u001b[0m\n\u001b[1;32m    134\u001b[0m     items[i] \u001b[38;5;241m=\u001b[39m x\n\u001b[1;32m    136\u001b[0m \u001b[38;5;28;01mif\u001b[39;00m \u001b[38;5;28mself\u001b[39m\u001b[38;5;241m.\u001b[39mbefore_write_items:\n\u001b[0;32m--> 137\u001b[0m     \u001b[38;5;28;43mself\u001b[39;49m\u001b[38;5;241;43m.\u001b[39;49m\u001b[43mbefore_write_items\u001b[49m\u001b[43m(\u001b[49m\u001b[43mitems\u001b[49m\u001b[43m,\u001b[49m\u001b[43m \u001b[49m\u001b[43mnulls_map\u001b[49m\u001b[38;5;241;43m=\u001b[39;49m\u001b[43mnulls_map\u001b[49m\u001b[43m)\u001b[49m\n\u001b[1;32m    139\u001b[0m \u001b[38;5;28;01mreturn\u001b[39;00m items\n",
      "File \u001b[0;32m~/Desktop/Assignment/assignments/segwise/segwise_env/lib/python3.9/site-packages/clickhouse_driver/columns/datetimecolumn.py:77\u001b[0m, in \u001b[0;36mDateTimeColumn.before_write_items\u001b[0;34m(self, items, nulls_map)\u001b[0m\n\u001b[1;32m     74\u001b[0m     \u001b[38;5;28;01mif\u001b[39;00m item\u001b[38;5;241m.\u001b[39mtzinfo \u001b[38;5;129;01mis\u001b[39;00m \u001b[38;5;28;01mNone\u001b[39;00m:\n\u001b[1;32m     75\u001b[0m         item \u001b[38;5;241m=\u001b[39m timezone\u001b[38;5;241m.\u001b[39mlocalize(item)\n\u001b[0;32m---> 77\u001b[0m     item \u001b[38;5;241m=\u001b[39m \u001b[43mitem\u001b[49m\u001b[38;5;241;43m.\u001b[39;49m\u001b[43mastimezone\u001b[49m\u001b[43m(\u001b[49m\u001b[43mutc\u001b[49m\u001b[43m)\u001b[49m\n\u001b[1;32m     79\u001b[0m \u001b[38;5;28;01melse\u001b[39;00m:\n\u001b[1;32m     80\u001b[0m     \u001b[38;5;66;03m# If datetime is offset-aware use it's timezone.\u001b[39;00m\n\u001b[1;32m     81\u001b[0m     \u001b[38;5;28;01mif\u001b[39;00m item\u001b[38;5;241m.\u001b[39mtzinfo \u001b[38;5;129;01mis\u001b[39;00m \u001b[38;5;129;01mnot\u001b[39;00m \u001b[38;5;28;01mNone\u001b[39;00m:\n",
      "File \u001b[0;32mnattype.pyx:54\u001b[0m, in \u001b[0;36mpandas._libs.tslibs.nattype._make_error_func.f\u001b[0;34m()\u001b[0m\n",
      "\u001b[0;31mValueError\u001b[0m: NaTType does not support astimezone"
     ]
    }
   ],
   "source": [
    "insert_result = client.execute(insert_query, df_mapped.to_dict('records'))\n",
    "print(\"Batch Insert result:\", insert_result)"
   ]
  },
  {
   "cell_type": "code",
   "execution_count": 42,
   "metadata": {},
   "outputs": [
    {
     "name": "stdout",
     "output_type": "stream",
     "text": [
      "0   2008-10-21\n",
      "1   2017-10-12\n",
      "2   2021-11-17\n",
      "3   2020-07-23\n",
      "4   2020-02-03\n",
      "Name: release_date, dtype: datetime64[ns]\n"
     ]
    }
   ],
   "source": [
    "print(df_mapped['release_date'].head())"
   ]
  },
  {
   "cell_type": "code",
   "execution_count": 43,
   "metadata": {},
   "outputs": [
    {
     "name": "stdout",
     "output_type": "stream",
     "text": [
      "datetime64[ns]\n",
      "1\n",
      "1\n"
     ]
    }
   ],
   "source": [
    "print(df_mapped['release_date'].dtype)  # Check the data type of 'release_date'\n",
    "\n",
    "# Check for any NaT values or missing values\n",
    "print(df_mapped['release_date'].isna().sum())  # Number of missing values (NaT or NaN)\n",
    "print(df_mapped['release_date'].isnull().sum())  # Number of missing values (NaT or NaN)"
   ]
  },
  {
   "cell_type": "code",
   "execution_count": 44,
   "metadata": {},
   "outputs": [
    {
     "name": "stdout",
     "output_type": "stream",
     "text": [
      "0    None\n",
      "1    None\n",
      "2    None\n",
      "3    None\n",
      "4    None\n",
      "Name: release_date, dtype: object\n"
     ]
    }
   ],
   "source": [
    "print(df_mapped['release_date'].apply(lambda x: x.tzinfo if pd.notna(x) else None).head())"
   ]
  },
  {
   "cell_type": "code",
   "execution_count": 45,
   "metadata": {},
   "outputs": [
    {
     "name": "stdout",
     "output_type": "stream",
     "text": [
      "<DatetimeArray>\n",
      "['2008-10-21 00:00:00', '2017-10-12 00:00:00', '2021-11-17 00:00:00',\n",
      " '2020-07-23 00:00:00', '2020-02-03 00:00:00', '2021-02-26 00:00:00',\n",
      " '2022-01-09 00:00:00', '2022-05-05 00:00:00', '2020-04-02 00:00:00',\n",
      " '2014-11-11 00:00:00', '2019-10-02 00:00:00', '2016-07-01 00:00:00',\n",
      " '2021-08-27 00:00:00', '2018-04-06 00:00:00', '2020-11-25 00:00:00',\n",
      " '2010-11-17 00:00:00', '2020-11-06 00:00:00', '2015-02-20 00:00:00',\n",
      " '2019-06-20 00:00:00', '2020-07-24 00:00:00', '2016-07-28 00:00:00',\n",
      " '2017-01-27 00:00:00', '2017-11-20 00:00:00', '2018-03-22 00:00:00',\n",
      " '2022-07-16 00:00:00', '2020-10-10 00:00:00', '2017-08-10 00:00:00',\n",
      " '2021-02-16 00:00:00', '2020-07-18 00:00:00', '2020-06-19 00:00:00',\n",
      " '2018-03-06 00:00:00', '2021-09-08 00:00:00', '2019-03-22 00:00:00',\n",
      " '2017-01-20 00:00:00', '2010-06-14 00:00:00', '2020-07-01 00:00:00',\n",
      " '2019-06-11 00:00:00', '2019-12-04 00:00:00', '2020-01-15 00:00:00',\n",
      " '2014-03-03 00:00:00', '2021-11-09 00:00:00', '2018-06-06 00:00:00',\n",
      " '2013-11-15 00:00:00', '2019-05-07 00:00:00', '2018-10-18 00:00:00',\n",
      " '2018-01-16 00:00:00', '2021-10-15 00:00:00', '2018-03-26 00:00:00',\n",
      " '2017-10-05 00:00:00', '2016-09-08 00:00:00', '2021-07-30 00:00:00',\n",
      " '2020-10-28 00:00:00', '2021-11-07 00:00:00', '2021-09-12 00:00:00',\n",
      " '2021-01-10 00:00:00', '2016-04-25 00:00:00', '2021-03-09 00:00:00',\n",
      " '2021-01-19 00:00:00', '2019-10-03 00:00:00', '2022-06-09 00:00:00',\n",
      " '2019-09-03 00:00:00', '2015-10-09 00:00:00', '2022-03-01 00:00:00',\n",
      " '2021-11-01 00:00:00', '2019-09-26 00:00:00', '2011-01-06 00:00:00',\n",
      " '2021-06-15 00:00:00', '2022-01-12 00:00:00', '2020-06-05 00:00:00',\n",
      " '2021-06-11 00:00:00', '2016-12-14 00:00:00', '2019-10-29 00:00:00',\n",
      " '2020-10-27 00:00:00', '2021-03-29 00:00:00', '2021-09-30 00:00:00',\n",
      " '2018-07-14 00:00:00', '2022-06-19 00:00:00', '2018-01-03 00:00:00',\n",
      " '2021-09-21 00:00:00', '2021-09-17 00:00:00', '2015-05-28 00:00:00',\n",
      " '2020-07-31 00:00:00', '2020-05-22 00:00:00', '2019-02-08 00:00:00',\n",
      " '2017-06-14 00:00:00', '2018-11-06 00:00:00', '2020-12-15 00:00:00',\n",
      " '2021-09-07 00:00:00', '2016-04-14 00:00:00', '2022-07-14 00:00:00',\n",
      " '2020-01-31 00:00:00',                 'NaT', '2020-06-30 00:00:00',\n",
      " '2018-07-29 00:00:00', '2022-01-06 00:00:00', '2019-07-30 00:00:00',\n",
      " '2021-10-17 00:00:00', '2022-06-21 00:00:00', '2021-03-03 00:00:00']\n",
      "Length: 99, dtype: datetime64[ns]\n"
     ]
    }
   ],
   "source": [
    "print(df_mapped['release_date'].unique())"
   ]
  },
  {
   "cell_type": "code",
   "execution_count": 49,
   "metadata": {},
   "outputs": [],
   "source": [
    "df_mapped['release_date'] = df_mapped['release_date'].fillna(pd.to_datetime('1970-01-01'))"
   ]
  },
  {
   "cell_type": "code",
   "execution_count": 50,
   "metadata": {},
   "outputs": [
    {
     "name": "stdout",
     "output_type": "stream",
     "text": [
      "datetime64[ns]\n",
      "0\n",
      "0\n"
     ]
    }
   ],
   "source": [
    "print(df_mapped['release_date'].dtype)  # Check the data type of 'release_date'\n",
    "\n",
    "# Check for any NaT values or missing values\n",
    "print(df_mapped['release_date'].isna().sum())  # Number of missing values (NaT or NaN)\n",
    "print(df_mapped['release_date'].isnull().sum())  # Number of missing values (NaT or NaN)"
   ]
  },
  {
   "cell_type": "code",
   "execution_count": 51,
   "metadata": {},
   "outputs": [
    {
     "ename": "AttributeError",
     "evalue": "'float' object has no attribute 'encode'",
     "output_type": "error",
     "traceback": [
      "\u001b[0;31m---------------------------------------------------------------------------\u001b[0m",
      "\u001b[0;31mAttributeError\u001b[0m                            Traceback (most recent call last)",
      "Cell \u001b[0;32mIn[51], line 2\u001b[0m\n\u001b[1;32m      1\u001b[0m \u001b[38;5;66;03m# Insert the data into ClickHouse\u001b[39;00m\n\u001b[0;32m----> 2\u001b[0m insert_result \u001b[38;5;241m=\u001b[39m \u001b[43mclient\u001b[49m\u001b[38;5;241;43m.\u001b[39;49m\u001b[43mexecute\u001b[49m\u001b[43m(\u001b[49m\u001b[43minsert_query\u001b[49m\u001b[43m,\u001b[49m\u001b[43m \u001b[49m\u001b[43mdf_mapped\u001b[49m\u001b[38;5;241;43m.\u001b[39;49m\u001b[43mto_dict\u001b[49m\u001b[43m(\u001b[49m\u001b[38;5;124;43m'\u001b[39;49m\u001b[38;5;124;43mrecords\u001b[39;49m\u001b[38;5;124;43m'\u001b[39;49m\u001b[43m)\u001b[49m\u001b[43m)\u001b[49m\n\u001b[1;32m      3\u001b[0m \u001b[38;5;28mprint\u001b[39m(\u001b[38;5;124m\"\u001b[39m\u001b[38;5;124mBatch Insert result:\u001b[39m\u001b[38;5;124m\"\u001b[39m, insert_result)\n",
      "File \u001b[0;32m~/Desktop/Assignment/assignments/segwise/segwise_env/lib/python3.9/site-packages/clickhouse_driver/client.py:376\u001b[0m, in \u001b[0;36mClient.execute\u001b[0;34m(self, query, params, with_column_types, external_tables, query_id, settings, types_check, columnar)\u001b[0m\n\u001b[1;32m    373\u001b[0m is_insert \u001b[38;5;241m=\u001b[39m \u001b[38;5;28misinstance\u001b[39m(params, (\u001b[38;5;28mlist\u001b[39m, \u001b[38;5;28mtuple\u001b[39m, types\u001b[38;5;241m.\u001b[39mGeneratorType))\n\u001b[1;32m    375\u001b[0m \u001b[38;5;28;01mif\u001b[39;00m is_insert:\n\u001b[0;32m--> 376\u001b[0m     rv \u001b[38;5;241m=\u001b[39m \u001b[38;5;28;43mself\u001b[39;49m\u001b[38;5;241;43m.\u001b[39;49m\u001b[43mprocess_insert_query\u001b[49m\u001b[43m(\u001b[49m\n\u001b[1;32m    377\u001b[0m \u001b[43m        \u001b[49m\u001b[43mquery\u001b[49m\u001b[43m,\u001b[49m\u001b[43m \u001b[49m\u001b[43mparams\u001b[49m\u001b[43m,\u001b[49m\u001b[43m \u001b[49m\u001b[43mexternal_tables\u001b[49m\u001b[38;5;241;43m=\u001b[39;49m\u001b[43mexternal_tables\u001b[49m\u001b[43m,\u001b[49m\n\u001b[1;32m    378\u001b[0m \u001b[43m        \u001b[49m\u001b[43mquery_id\u001b[49m\u001b[38;5;241;43m=\u001b[39;49m\u001b[43mquery_id\u001b[49m\u001b[43m,\u001b[49m\u001b[43m \u001b[49m\u001b[43mtypes_check\u001b[49m\u001b[38;5;241;43m=\u001b[39;49m\u001b[43mtypes_check\u001b[49m\u001b[43m,\u001b[49m\n\u001b[1;32m    379\u001b[0m \u001b[43m        \u001b[49m\u001b[43mcolumnar\u001b[49m\u001b[38;5;241;43m=\u001b[39;49m\u001b[43mcolumnar\u001b[49m\n\u001b[1;32m    380\u001b[0m \u001b[43m    \u001b[49m\u001b[43m)\u001b[49m\n\u001b[1;32m    381\u001b[0m \u001b[38;5;28;01melse\u001b[39;00m:\n\u001b[1;32m    382\u001b[0m     rv \u001b[38;5;241m=\u001b[39m \u001b[38;5;28mself\u001b[39m\u001b[38;5;241m.\u001b[39mprocess_ordinary_query(\n\u001b[1;32m    383\u001b[0m         query, params\u001b[38;5;241m=\u001b[39mparams, with_column_types\u001b[38;5;241m=\u001b[39mwith_column_types,\n\u001b[1;32m    384\u001b[0m         external_tables\u001b[38;5;241m=\u001b[39mexternal_tables,\n\u001b[1;32m    385\u001b[0m         query_id\u001b[38;5;241m=\u001b[39mquery_id, types_check\u001b[38;5;241m=\u001b[39mtypes_check,\n\u001b[1;32m    386\u001b[0m         columnar\u001b[38;5;241m=\u001b[39mcolumnar\n\u001b[1;32m    387\u001b[0m     )\n",
      "File \u001b[0;32m~/Desktop/Assignment/assignments/segwise/segwise_env/lib/python3.9/site-packages/clickhouse_driver/client.py:607\u001b[0m, in \u001b[0;36mClient.process_insert_query\u001b[0;34m(self, query_without_data, data, external_tables, query_id, types_check, columnar)\u001b[0m\n\u001b[1;32m    604\u001b[0m sample_block \u001b[38;5;241m=\u001b[39m \u001b[38;5;28mself\u001b[39m\u001b[38;5;241m.\u001b[39mreceive_sample_block()\n\u001b[1;32m    606\u001b[0m \u001b[38;5;28;01mif\u001b[39;00m sample_block:\n\u001b[0;32m--> 607\u001b[0m     rv \u001b[38;5;241m=\u001b[39m \u001b[38;5;28;43mself\u001b[39;49m\u001b[38;5;241;43m.\u001b[39;49m\u001b[43msend_data\u001b[49m\u001b[43m(\u001b[49m\u001b[43msample_block\u001b[49m\u001b[43m,\u001b[49m\u001b[43m \u001b[49m\u001b[43mdata\u001b[49m\u001b[43m,\u001b[49m\n\u001b[1;32m    608\u001b[0m \u001b[43m                        \u001b[49m\u001b[43mtypes_check\u001b[49m\u001b[38;5;241;43m=\u001b[39;49m\u001b[43mtypes_check\u001b[49m\u001b[43m,\u001b[49m\u001b[43m \u001b[49m\u001b[43mcolumnar\u001b[49m\u001b[38;5;241;43m=\u001b[39;49m\u001b[43mcolumnar\u001b[49m\u001b[43m)\u001b[49m\n\u001b[1;32m    609\u001b[0m     \u001b[38;5;28mself\u001b[39m\u001b[38;5;241m.\u001b[39mreceive_end_of_insert_query()\n\u001b[1;32m    610\u001b[0m     \u001b[38;5;28;01mreturn\u001b[39;00m rv\n",
      "File \u001b[0;32m~/Desktop/Assignment/assignments/segwise/segwise_env/lib/python3.9/site-packages/clickhouse_driver/client.py:660\u001b[0m, in \u001b[0;36mClient.send_data\u001b[0;34m(self, sample_block, data, types_check, columnar)\u001b[0m\n\u001b[1;32m    657\u001b[0m \u001b[38;5;28;01mfor\u001b[39;00m chunk \u001b[38;5;129;01min\u001b[39;00m slicer(data, client_settings[\u001b[38;5;124m'\u001b[39m\u001b[38;5;124minsert_block_size\u001b[39m\u001b[38;5;124m'\u001b[39m]):\n\u001b[1;32m    658\u001b[0m     block \u001b[38;5;241m=\u001b[39m block_cls(sample_block\u001b[38;5;241m.\u001b[39mcolumns_with_types, chunk,\n\u001b[1;32m    659\u001b[0m                       types_check\u001b[38;5;241m=\u001b[39mtypes_check)\n\u001b[0;32m--> 660\u001b[0m     \u001b[38;5;28;43mself\u001b[39;49m\u001b[38;5;241;43m.\u001b[39;49m\u001b[43mconnection\u001b[49m\u001b[38;5;241;43m.\u001b[39;49m\u001b[43msend_data\u001b[49m\u001b[43m(\u001b[49m\u001b[43mblock\u001b[49m\u001b[43m)\u001b[49m\n\u001b[1;32m    661\u001b[0m     inserted_rows \u001b[38;5;241m+\u001b[39m\u001b[38;5;241m=\u001b[39m block\u001b[38;5;241m.\u001b[39mnum_rows\n\u001b[1;32m    663\u001b[0m     \u001b[38;5;66;03m# Starting from the specific revision there are profile events\u001b[39;00m\n\u001b[1;32m    664\u001b[0m     \u001b[38;5;66;03m# sent by server in response to each inserted block\u001b[39;00m\n",
      "File \u001b[0;32m~/Desktop/Assignment/assignments/segwise/segwise_env/lib/python3.9/site-packages/clickhouse_driver/connection.py:688\u001b[0m, in \u001b[0;36mConnection.send_data\u001b[0;34m(self, block, table_name)\u001b[0m\n\u001b[1;32m    685\u001b[0m \u001b[38;5;28;01mif\u001b[39;00m revision \u001b[38;5;241m>\u001b[39m\u001b[38;5;241m=\u001b[39m defines\u001b[38;5;241m.\u001b[39mDBMS_MIN_REVISION_WITH_TEMPORARY_TABLES:\n\u001b[1;32m    686\u001b[0m     write_binary_str(table_name, \u001b[38;5;28mself\u001b[39m\u001b[38;5;241m.\u001b[39mfout)\n\u001b[0;32m--> 688\u001b[0m \u001b[38;5;28;43mself\u001b[39;49m\u001b[38;5;241;43m.\u001b[39;49m\u001b[43mblock_out\u001b[49m\u001b[38;5;241;43m.\u001b[39;49m\u001b[43mwrite\u001b[49m\u001b[43m(\u001b[49m\u001b[43mblock\u001b[49m\u001b[43m)\u001b[49m\n\u001b[1;32m    689\u001b[0m logger\u001b[38;5;241m.\u001b[39mdebug(\u001b[38;5;124m'\u001b[39m\u001b[38;5;124mBlock \u001b[39m\u001b[38;5;124m\"\u001b[39m\u001b[38;5;132;01m%s\u001b[39;00m\u001b[38;5;124m\"\u001b[39m\u001b[38;5;124m send time: \u001b[39m\u001b[38;5;132;01m%f\u001b[39;00m\u001b[38;5;124m'\u001b[39m, table_name, time() \u001b[38;5;241m-\u001b[39m start)\n",
      "File \u001b[0;32m~/Desktop/Assignment/assignments/segwise/segwise_env/lib/python3.9/site-packages/clickhouse_driver/streams/native.py:48\u001b[0m, in \u001b[0;36mBlockOutputStream.write\u001b[0;34m(self, block)\u001b[0m\n\u001b[1;32m     45\u001b[0m             write_binary_uint8(\u001b[38;5;241m0\u001b[39m, \u001b[38;5;28mself\u001b[39m\u001b[38;5;241m.\u001b[39mfout)\n\u001b[1;32m     47\u001b[0m         logger\u001b[38;5;241m.\u001b[39mdebug(\u001b[38;5;124m'\u001b[39m\u001b[38;5;124mWriting column \u001b[39m\u001b[38;5;132;01m%s\u001b[39;00m\u001b[38;5;124m'\u001b[39m, col_name)\n\u001b[0;32m---> 48\u001b[0m         \u001b[43mwrite_column\u001b[49m\u001b[43m(\u001b[49m\u001b[38;5;28;43mself\u001b[39;49m\u001b[38;5;241;43m.\u001b[39;49m\u001b[43mcontext\u001b[49m\u001b[43m,\u001b[49m\u001b[43m \u001b[49m\u001b[43mcol_name\u001b[49m\u001b[43m,\u001b[49m\u001b[43m \u001b[49m\u001b[43mcol_type\u001b[49m\u001b[43m,\u001b[49m\u001b[43m \u001b[49m\u001b[43mitems\u001b[49m\u001b[43m,\u001b[49m\n\u001b[1;32m     49\u001b[0m \u001b[43m                     \u001b[49m\u001b[38;5;28;43mself\u001b[39;49m\u001b[38;5;241;43m.\u001b[39;49m\u001b[43mfout\u001b[49m\u001b[43m,\u001b[49m\u001b[43m \u001b[49m\u001b[43mtypes_check\u001b[49m\u001b[38;5;241;43m=\u001b[39;49m\u001b[43mblock\u001b[49m\u001b[38;5;241;43m.\u001b[39;49m\u001b[43mtypes_check\u001b[49m\u001b[43m)\u001b[49m\n\u001b[1;32m     51\u001b[0m \u001b[38;5;28mself\u001b[39m\u001b[38;5;241m.\u001b[39mfinalize()\n",
      "File \u001b[0;32m~/Desktop/Assignment/assignments/segwise/segwise_env/lib/python3.9/site-packages/clickhouse_driver/columns/service.py:167\u001b[0m, in \u001b[0;36mwrite_column\u001b[0;34m(context, column_name, column_spec, items, buf, types_check)\u001b[0m\n\u001b[1;32m    165\u001b[0m \u001b[38;5;28;01mtry\u001b[39;00m:\n\u001b[1;32m    166\u001b[0m     column\u001b[38;5;241m.\u001b[39mwrite_state_prefix(buf)\n\u001b[0;32m--> 167\u001b[0m     \u001b[43mcolumn\u001b[49m\u001b[38;5;241;43m.\u001b[39;49m\u001b[43mwrite_data\u001b[49m\u001b[43m(\u001b[49m\u001b[43mitems\u001b[49m\u001b[43m,\u001b[49m\u001b[43m \u001b[49m\u001b[43mbuf\u001b[49m\u001b[43m)\u001b[49m\n\u001b[1;32m    169\u001b[0m \u001b[38;5;28;01mexcept\u001b[39;00m column_exceptions\u001b[38;5;241m.\u001b[39mColumnTypeMismatchException \u001b[38;5;28;01mas\u001b[39;00m e:\n\u001b[1;32m    170\u001b[0m     \u001b[38;5;28;01mraise\u001b[39;00m errors\u001b[38;5;241m.\u001b[39mTypeMismatchError(\n\u001b[1;32m    171\u001b[0m         \u001b[38;5;124m'\u001b[39m\u001b[38;5;124mType mismatch in VALUES section. \u001b[39m\u001b[38;5;124m'\u001b[39m\n\u001b[1;32m    172\u001b[0m         \u001b[38;5;124m'\u001b[39m\u001b[38;5;124mExpected \u001b[39m\u001b[38;5;132;01m{}\u001b[39;00m\u001b[38;5;124m got \u001b[39m\u001b[38;5;132;01m{}\u001b[39;00m\u001b[38;5;124m: \u001b[39m\u001b[38;5;132;01m{}\u001b[39;00m\u001b[38;5;124m for column \u001b[39m\u001b[38;5;124m\"\u001b[39m\u001b[38;5;132;01m{}\u001b[39;00m\u001b[38;5;124m\"\u001b[39m\u001b[38;5;124m.\u001b[39m\u001b[38;5;124m'\u001b[39m\u001b[38;5;241m.\u001b[39mformat(\n\u001b[1;32m    173\u001b[0m             column_spec, \u001b[38;5;28mtype\u001b[39m(e\u001b[38;5;241m.\u001b[39margs[\u001b[38;5;241m0\u001b[39m]), e\u001b[38;5;241m.\u001b[39margs[\u001b[38;5;241m0\u001b[39m], column_name\n\u001b[1;32m    174\u001b[0m         )\n\u001b[1;32m    175\u001b[0m     )\n",
      "File \u001b[0;32m~/Desktop/Assignment/assignments/segwise/segwise_env/lib/python3.9/site-packages/clickhouse_driver/columns/base.py:145\u001b[0m, in \u001b[0;36mColumn.write_data\u001b[0;34m(self, items, buf)\u001b[0m\n\u001b[1;32m    142\u001b[0m \u001b[38;5;28;01mif\u001b[39;00m \u001b[38;5;28mself\u001b[39m\u001b[38;5;241m.\u001b[39mnullable:\n\u001b[1;32m    143\u001b[0m     \u001b[38;5;28mself\u001b[39m\u001b[38;5;241m.\u001b[39m_write_nulls_map(items, buf)\n\u001b[0;32m--> 145\u001b[0m \u001b[38;5;28;43mself\u001b[39;49m\u001b[38;5;241;43m.\u001b[39;49m\u001b[43m_write_data\u001b[49m\u001b[43m(\u001b[49m\u001b[43mitems\u001b[49m\u001b[43m,\u001b[49m\u001b[43m \u001b[49m\u001b[43mbuf\u001b[49m\u001b[43m)\u001b[49m\n",
      "File \u001b[0;32m~/Desktop/Assignment/assignments/segwise/segwise_env/lib/python3.9/site-packages/clickhouse_driver/columns/base.py:149\u001b[0m, in \u001b[0;36mColumn._write_data\u001b[0;34m(self, items, buf)\u001b[0m\n\u001b[1;32m    147\u001b[0m \u001b[38;5;28;01mdef\u001b[39;00m \u001b[38;5;21m_write_data\u001b[39m(\u001b[38;5;28mself\u001b[39m, items, buf):\n\u001b[1;32m    148\u001b[0m     prepared \u001b[38;5;241m=\u001b[39m \u001b[38;5;28mself\u001b[39m\u001b[38;5;241m.\u001b[39mprepare_items(items)\n\u001b[0;32m--> 149\u001b[0m     \u001b[38;5;28;43mself\u001b[39;49m\u001b[38;5;241;43m.\u001b[39;49m\u001b[43mwrite_items\u001b[49m\u001b[43m(\u001b[49m\u001b[43mprepared\u001b[49m\u001b[43m,\u001b[49m\u001b[43m \u001b[49m\u001b[43mbuf\u001b[49m\u001b[43m)\u001b[49m\n",
      "File \u001b[0;32m~/Desktop/Assignment/assignments/segwise/segwise_env/lib/python3.9/site-packages/clickhouse_driver/columns/stringcolumn.py:18\u001b[0m, in \u001b[0;36mString.write_items\u001b[0;34m(self, items, buf)\u001b[0m\n\u001b[1;32m     17\u001b[0m \u001b[38;5;28;01mdef\u001b[39;00m \u001b[38;5;21mwrite_items\u001b[39m(\u001b[38;5;28mself\u001b[39m, items, buf):\n\u001b[0;32m---> 18\u001b[0m     \u001b[43mbuf\u001b[49m\u001b[38;5;241;43m.\u001b[39;49m\u001b[43mwrite_strings\u001b[49m\u001b[43m(\u001b[49m\u001b[43mitems\u001b[49m\u001b[43m,\u001b[49m\u001b[43m \u001b[49m\u001b[43mencoding\u001b[49m\u001b[38;5;241;43m=\u001b[39;49m\u001b[38;5;28;43mself\u001b[39;49m\u001b[38;5;241;43m.\u001b[39;49m\u001b[43mencoding\u001b[49m\u001b[43m)\u001b[49m\n",
      "File \u001b[0;32mclickhouse_driver/bufferedwriter.pyx:54\u001b[0m, in \u001b[0;36mclickhouse_driver.bufferedwriter.BufferedWriter.write_strings\u001b[0;34m()\u001b[0m\n",
      "\u001b[0;31mAttributeError\u001b[0m: 'float' object has no attribute 'encode'"
     ]
    }
   ],
   "source": [
    "# Insert the data into ClickHouse\n",
    "insert_result = client.execute(insert_query, df_mapped.to_dict('records'))\n",
    "print(\"Batch Insert result:\", insert_result)"
   ]
  },
  {
   "cell_type": "code",
   "execution_count": 54,
   "metadata": {},
   "outputs": [],
   "source": [
    "def handle_missing_values(df):\n",
    "    \"\"\"\n",
    "    Handles missing values for different data types in the DataFrame and replaces them with appropriate defaults.\n",
    "    \n",
    "    Args:\n",
    "        df (pd.DataFrame): The DataFrame with potential missing values.\n",
    "    \n",
    "    Returns:\n",
    "        pd.DataFrame: The DataFrame with missing values filled with default values.\n",
    "    \"\"\"\n",
    "    # Handle String Columns (e.g., 'tags', 'developers')\n",
    "    for col in df.select_dtypes(include=['object']).columns:\n",
    "        df[col] = df[col].fillna('').astype(str)  # Replace NaN with empty string and ensure it's string type\n",
    "\n",
    "    # Handle Numeric Columns (e.g., 'price', 'dlc_count')\n",
    "    for col in df.select_dtypes(include=['float64', 'int64']).columns:\n",
    "        if df[col].dtype == 'float64':\n",
    "            df[col] = df[col].fillna(0.0)  # Replace NaN with 0.0 for float columns (or use None for NULL)\n",
    "        elif df[col].dtype == 'int64':\n",
    "            df[col] = df[col].fillna(0)  # Replace NaN with 0 for integer columns\n",
    "\n",
    "    # Handle Boolean Columns (e.g., 'windows', 'mac', 'linux')\n",
    "    for col in df.select_dtypes(include=['bool']).columns:\n",
    "        df[col] = df[col].fillna(False).astype(int)  # Replace NaN with False (0) for boolean columns and cast to int\n",
    "\n",
    "    # Handle Datetime Columns (e.g., 'release_date')\n",
    "    for col in df.select_dtypes(include=['datetime64']).columns:\n",
    "        df[col] = df[col].fillna(pd.to_datetime('1970-01-01'))  # Replace NaT with a default date (e.g., '1970-01-01')\n",
    "\n",
    "    return df"
   ]
  },
  {
   "cell_type": "code",
   "execution_count": 53,
   "metadata": {},
   "outputs": [
    {
     "name": "stdout",
     "output_type": "stream",
     "text": [
      "<class 'pandas.core.frame.DataFrame'>\n",
      "RangeIndex: 100 entries, 0 to 99\n",
      "Data columns (total 19 columns):\n",
      " #   Column               Non-Null Count  Dtype         \n",
      "---  ------               --------------  -----         \n",
      " 0   app_id               100 non-null    int64         \n",
      " 1   name                 100 non-null    object        \n",
      " 2   release_date         100 non-null    datetime64[ns]\n",
      " 3   required_age         100 non-null    int64         \n",
      " 4   price                100 non-null    float64       \n",
      " 5   dlc_count            100 non-null    int64         \n",
      " 6   about_the_game       100 non-null    object        \n",
      " 7   supported_languages  100 non-null    object        \n",
      " 8   windows              100 non-null    int64         \n",
      " 9   mac                  100 non-null    int64         \n",
      " 10  linux                100 non-null    int64         \n",
      " 11  positive             100 non-null    int64         \n",
      " 12  negative             100 non-null    int64         \n",
      " 13  score_rank           0 non-null      float64       \n",
      " 14  developers           100 non-null    object        \n",
      " 15  publishers           99 non-null     object        \n",
      " 16  categories           99 non-null     object        \n",
      " 17  genres               100 non-null    object        \n",
      " 18  tags                 87 non-null     object        \n",
      "dtypes: datetime64[ns](1), float64(2), int64(8), object(8)\n",
      "memory usage: 15.0+ KB\n"
     ]
    }
   ],
   "source": [
    "df_mapped.info()"
   ]
  },
  {
   "cell_type": "code",
   "execution_count": 55,
   "metadata": {},
   "outputs": [
    {
     "ename": "timeout",
     "evalue": "timed out",
     "output_type": "error",
     "traceback": [
      "\u001b[0;31m---------------------------------------------------------------------------\u001b[0m",
      "\u001b[0;31mtimeout\u001b[0m                                   Traceback (most recent call last)",
      "Cell \u001b[0;32mIn[55], line 5\u001b[0m\n\u001b[1;32m      2\u001b[0m df_mapped \u001b[38;5;241m=\u001b[39m handle_missing_values(df_mapped)\n\u001b[1;32m      4\u001b[0m \u001b[38;5;66;03m# Now you can insert the data into ClickHouse\u001b[39;00m\n\u001b[0;32m----> 5\u001b[0m insert_result \u001b[38;5;241m=\u001b[39m \u001b[43mclient\u001b[49m\u001b[38;5;241;43m.\u001b[39;49m\u001b[43mexecute\u001b[49m\u001b[43m(\u001b[49m\u001b[43minsert_query\u001b[49m\u001b[43m,\u001b[49m\u001b[43m \u001b[49m\u001b[43mdf_mapped\u001b[49m\u001b[38;5;241;43m.\u001b[39;49m\u001b[43mto_dict\u001b[49m\u001b[43m(\u001b[49m\u001b[38;5;124;43m'\u001b[39;49m\u001b[38;5;124;43mrecords\u001b[39;49m\u001b[38;5;124;43m'\u001b[39;49m\u001b[43m)\u001b[49m\u001b[43m)\u001b[49m\n\u001b[1;32m      6\u001b[0m \u001b[38;5;28mprint\u001b[39m(\u001b[38;5;124m\"\u001b[39m\u001b[38;5;124mBatch Insert result:\u001b[39m\u001b[38;5;124m\"\u001b[39m, insert_result)\n",
      "File \u001b[0;32m~/Desktop/Assignment/assignments/segwise/segwise_env/lib/python3.9/site-packages/clickhouse_driver/client.py:376\u001b[0m, in \u001b[0;36mClient.execute\u001b[0;34m(self, query, params, with_column_types, external_tables, query_id, settings, types_check, columnar)\u001b[0m\n\u001b[1;32m    373\u001b[0m is_insert \u001b[38;5;241m=\u001b[39m \u001b[38;5;28misinstance\u001b[39m(params, (\u001b[38;5;28mlist\u001b[39m, \u001b[38;5;28mtuple\u001b[39m, types\u001b[38;5;241m.\u001b[39mGeneratorType))\n\u001b[1;32m    375\u001b[0m \u001b[38;5;28;01mif\u001b[39;00m is_insert:\n\u001b[0;32m--> 376\u001b[0m     rv \u001b[38;5;241m=\u001b[39m \u001b[38;5;28;43mself\u001b[39;49m\u001b[38;5;241;43m.\u001b[39;49m\u001b[43mprocess_insert_query\u001b[49m\u001b[43m(\u001b[49m\n\u001b[1;32m    377\u001b[0m \u001b[43m        \u001b[49m\u001b[43mquery\u001b[49m\u001b[43m,\u001b[49m\u001b[43m \u001b[49m\u001b[43mparams\u001b[49m\u001b[43m,\u001b[49m\u001b[43m \u001b[49m\u001b[43mexternal_tables\u001b[49m\u001b[38;5;241;43m=\u001b[39;49m\u001b[43mexternal_tables\u001b[49m\u001b[43m,\u001b[49m\n\u001b[1;32m    378\u001b[0m \u001b[43m        \u001b[49m\u001b[43mquery_id\u001b[49m\u001b[38;5;241;43m=\u001b[39;49m\u001b[43mquery_id\u001b[49m\u001b[43m,\u001b[49m\u001b[43m \u001b[49m\u001b[43mtypes_check\u001b[49m\u001b[38;5;241;43m=\u001b[39;49m\u001b[43mtypes_check\u001b[49m\u001b[43m,\u001b[49m\n\u001b[1;32m    379\u001b[0m \u001b[43m        \u001b[49m\u001b[43mcolumnar\u001b[49m\u001b[38;5;241;43m=\u001b[39;49m\u001b[43mcolumnar\u001b[49m\n\u001b[1;32m    380\u001b[0m \u001b[43m    \u001b[49m\u001b[43m)\u001b[49m\n\u001b[1;32m    381\u001b[0m \u001b[38;5;28;01melse\u001b[39;00m:\n\u001b[1;32m    382\u001b[0m     rv \u001b[38;5;241m=\u001b[39m \u001b[38;5;28mself\u001b[39m\u001b[38;5;241m.\u001b[39mprocess_ordinary_query(\n\u001b[1;32m    383\u001b[0m         query, params\u001b[38;5;241m=\u001b[39mparams, with_column_types\u001b[38;5;241m=\u001b[39mwith_column_types,\n\u001b[1;32m    384\u001b[0m         external_tables\u001b[38;5;241m=\u001b[39mexternal_tables,\n\u001b[1;32m    385\u001b[0m         query_id\u001b[38;5;241m=\u001b[39mquery_id, types_check\u001b[38;5;241m=\u001b[39mtypes_check,\n\u001b[1;32m    386\u001b[0m         columnar\u001b[38;5;241m=\u001b[39mcolumnar\n\u001b[1;32m    387\u001b[0m     )\n",
      "File \u001b[0;32m~/Desktop/Assignment/assignments/segwise/segwise_env/lib/python3.9/site-packages/clickhouse_driver/client.py:607\u001b[0m, in \u001b[0;36mClient.process_insert_query\u001b[0;34m(self, query_without_data, data, external_tables, query_id, types_check, columnar)\u001b[0m\n\u001b[1;32m    604\u001b[0m sample_block \u001b[38;5;241m=\u001b[39m \u001b[38;5;28mself\u001b[39m\u001b[38;5;241m.\u001b[39mreceive_sample_block()\n\u001b[1;32m    606\u001b[0m \u001b[38;5;28;01mif\u001b[39;00m sample_block:\n\u001b[0;32m--> 607\u001b[0m     rv \u001b[38;5;241m=\u001b[39m \u001b[38;5;28;43mself\u001b[39;49m\u001b[38;5;241;43m.\u001b[39;49m\u001b[43msend_data\u001b[49m\u001b[43m(\u001b[49m\u001b[43msample_block\u001b[49m\u001b[43m,\u001b[49m\u001b[43m \u001b[49m\u001b[43mdata\u001b[49m\u001b[43m,\u001b[49m\n\u001b[1;32m    608\u001b[0m \u001b[43m                        \u001b[49m\u001b[43mtypes_check\u001b[49m\u001b[38;5;241;43m=\u001b[39;49m\u001b[43mtypes_check\u001b[49m\u001b[43m,\u001b[49m\u001b[43m \u001b[49m\u001b[43mcolumnar\u001b[49m\u001b[38;5;241;43m=\u001b[39;49m\u001b[43mcolumnar\u001b[49m\u001b[43m)\u001b[49m\n\u001b[1;32m    609\u001b[0m     \u001b[38;5;28mself\u001b[39m\u001b[38;5;241m.\u001b[39mreceive_end_of_insert_query()\n\u001b[1;32m    610\u001b[0m     \u001b[38;5;28;01mreturn\u001b[39;00m rv\n",
      "File \u001b[0;32m~/Desktop/Assignment/assignments/segwise/segwise_env/lib/python3.9/site-packages/clickhouse_driver/client.py:665\u001b[0m, in \u001b[0;36mClient.send_data\u001b[0;34m(self, sample_block, data, types_check, columnar)\u001b[0m\n\u001b[1;32m    661\u001b[0m     inserted_rows \u001b[38;5;241m+\u001b[39m\u001b[38;5;241m=\u001b[39m block\u001b[38;5;241m.\u001b[39mnum_rows\n\u001b[1;32m    663\u001b[0m     \u001b[38;5;66;03m# Starting from the specific revision there are profile events\u001b[39;00m\n\u001b[1;32m    664\u001b[0m     \u001b[38;5;66;03m# sent by server in response to each inserted block\u001b[39;00m\n\u001b[0;32m--> 665\u001b[0m     \u001b[38;5;28;43mself\u001b[39;49m\u001b[38;5;241;43m.\u001b[39;49m\u001b[43mreceive_profile_events\u001b[49m\u001b[43m(\u001b[49m\u001b[43m)\u001b[49m\n\u001b[1;32m    667\u001b[0m \u001b[38;5;66;03m# Empty block means end of data.\u001b[39;00m\n\u001b[1;32m    668\u001b[0m \u001b[38;5;28mself\u001b[39m\u001b[38;5;241m.\u001b[39mconnection\u001b[38;5;241m.\u001b[39msend_data(block_cls())\n",
      "File \u001b[0;32m~/Desktop/Assignment/assignments/segwise/segwise_env/lib/python3.9/site-packages/clickhouse_driver/client.py:734\u001b[0m, in \u001b[0;36mClient.receive_profile_events\u001b[0;34m(self)\u001b[0m\n\u001b[1;32m    731\u001b[0m     \u001b[38;5;28;01mreturn\u001b[39;00m \u001b[38;5;28;01mNone\u001b[39;00m\n\u001b[1;32m    733\u001b[0m \u001b[38;5;28;01mwhile\u001b[39;00m \u001b[38;5;28;01mTrue\u001b[39;00m:\n\u001b[0;32m--> 734\u001b[0m     packet \u001b[38;5;241m=\u001b[39m \u001b[38;5;28;43mself\u001b[39;49m\u001b[38;5;241;43m.\u001b[39;49m\u001b[43mconnection\u001b[49m\u001b[38;5;241;43m.\u001b[39;49m\u001b[43mreceive_packet\u001b[49m\u001b[43m(\u001b[49m\u001b[43m)\u001b[49m\n\u001b[1;32m    736\u001b[0m     \u001b[38;5;28;01mif\u001b[39;00m packet\u001b[38;5;241m.\u001b[39mtype \u001b[38;5;241m==\u001b[39m ServerPacketTypes\u001b[38;5;241m.\u001b[39mPROFILE_EVENTS:\n\u001b[1;32m    737\u001b[0m         \u001b[38;5;28mself\u001b[39m\u001b[38;5;241m.\u001b[39mlast_query\u001b[38;5;241m.\u001b[39mstore_profile(packet\u001b[38;5;241m.\u001b[39mprofile_info)\n",
      "File \u001b[0;32m~/Desktop/Assignment/assignments/segwise/segwise_env/lib/python3.9/site-packages/clickhouse_driver/connection.py:577\u001b[0m, in \u001b[0;36mConnection.receive_packet\u001b[0;34m(self)\u001b[0m\n\u001b[1;32m    574\u001b[0m \u001b[38;5;28;01mdef\u001b[39;00m \u001b[38;5;21mreceive_packet\u001b[39m(\u001b[38;5;28mself\u001b[39m):\n\u001b[1;32m    575\u001b[0m     packet \u001b[38;5;241m=\u001b[39m Packet()\n\u001b[0;32m--> 577\u001b[0m     packet\u001b[38;5;241m.\u001b[39mtype \u001b[38;5;241m=\u001b[39m packet_type \u001b[38;5;241m=\u001b[39m \u001b[43mread_varint\u001b[49m\u001b[43m(\u001b[49m\u001b[38;5;28;43mself\u001b[39;49m\u001b[38;5;241;43m.\u001b[39;49m\u001b[43mfin\u001b[49m\u001b[43m)\u001b[49m\n\u001b[1;32m    579\u001b[0m     \u001b[38;5;28;01mif\u001b[39;00m packet_type \u001b[38;5;241m==\u001b[39m ServerPacketTypes\u001b[38;5;241m.\u001b[39mDATA:\n\u001b[1;32m    580\u001b[0m         packet\u001b[38;5;241m.\u001b[39mblock \u001b[38;5;241m=\u001b[39m \u001b[38;5;28mself\u001b[39m\u001b[38;5;241m.\u001b[39mreceive_data(may_be_use_numpy\u001b[38;5;241m=\u001b[39m\u001b[38;5;28;01mTrue\u001b[39;00m)\n",
      "File \u001b[0;32mclickhouse_driver/varint.pyx:62\u001b[0m, in \u001b[0;36mclickhouse_driver.varint.read_varint\u001b[0;34m()\u001b[0m\n",
      "File \u001b[0;32mclickhouse_driver/bufferedreader.pyx:55\u001b[0m, in \u001b[0;36mclickhouse_driver.bufferedreader.BufferedReader.read_one\u001b[0;34m()\u001b[0m\n",
      "File \u001b[0;32mclickhouse_driver/bufferedreader.pyx:237\u001b[0m, in \u001b[0;36mclickhouse_driver.bufferedreader.BufferedSocketReader.read_into_buffer\u001b[0;34m()\u001b[0m\n",
      "\u001b[0;31mtimeout\u001b[0m: timed out"
     ]
    }
   ],
   "source": [
    "# Example usage\n",
    "df_mapped = handle_missing_values(df_mapped)\n",
    "\n",
    "# Now you can insert the data into ClickHouse\n",
    "insert_result = client.execute(insert_query, df_mapped.to_dict('records'))\n",
    "print(\"Batch Insert result:\", insert_result)"
   ]
  },
  {
   "cell_type": "code",
   "execution_count": 57,
   "metadata": {},
   "outputs": [],
   "source": [
    "def df_to_tuples(df):\n",
    "    \"\"\"\n",
    "    Converts a pandas DataFrame into a list of tuples.\n",
    "\n",
    "    Args:\n",
    "        df (pd.DataFrame): The DataFrame to convert.\n",
    "\n",
    "    Returns:\n",
    "        list: A list of tuples, where each tuple represents a row in the DataFrame.\n",
    "    \"\"\"\n",
    "    # Convert each row of the DataFrame into a tuple\n",
    "    data_tuples = [tuple(row) for row in df.values]\n",
    "    \n",
    "    return data_tuples"
   ]
  },
  {
   "cell_type": "code",
   "execution_count": 59,
   "metadata": {},
   "outputs": [
    {
     "name": "stdout",
     "output_type": "stream",
     "text": [
      "[(20200, 'Galactic Bowling', Timestamp('2008-10-21 00:00:00'), 0, 19.99, 0, 'Galactic Bowling is an exaggerated and stylized bowling game with an intergalactic twist. Players will engage in fast-paced single and multi-player competition while being submerged in a unique new universe filled with over-the-top humor, wild characters, unique levels, and addictive game play. The title is aimed at players of all ages and skill sets. Through accessible and intuitive controls and game-play, Galactic Bowling allows you to jump right into the action. A single-player campaign and online play allow you to work your way up the ranks of the Galactic Bowling League! Whether you have hours to play or only a few minutes, Galactic Bowling is a fast paced and entertaining experience that will leave you wanting more! Full Single-player story campaign including 11 Characters and Environments. 2 Single-player play modes including Regular and Battle Modes. Head to Head Online Multiplayer play Modes. Super Powers, Special Balls, and Whammies. Unlockable Characters, Environments, and Minigames. Unlock all 30 Steam Achievements!', \"['English']\", 1, 0, 0, 6, 11, 0.0, 'Perpetual FX Creative', 'Perpetual FX Creative', 'Single-player,Multi-player,Steam Achievements,Partial Controller Support', 'Casual,Indie,Sports', 'Indie,Casual,Sports,Bowling')]\n"
     ]
    }
   ],
   "source": [
    "# Assuming df_mapped is your DataFrame\n",
    "data_tuples = df_to_tuples(df_mapped)\n",
    "\n",
    "# Print the first 5 tuples to check the result\n",
    "print(data_tuples[:1])"
   ]
  },
  {
   "cell_type": "code",
   "execution_count": 60,
   "metadata": {},
   "outputs": [
    {
     "data": {
      "text/plain": [
       "(20200,\n",
       " 'Galactic Bowling',\n",
       " Timestamp('2008-10-21 00:00:00'),\n",
       " 0,\n",
       " 19.99,\n",
       " 0,\n",
       " 'Galactic Bowling is an exaggerated and stylized bowling game with an intergalactic twist. Players will engage in fast-paced single and multi-player competition while being submerged in a unique new universe filled with over-the-top humor, wild characters, unique levels, and addictive game play. The title is aimed at players of all ages and skill sets. Through accessible and intuitive controls and game-play, Galactic Bowling allows you to jump right into the action. A single-player campaign and online play allow you to work your way up the ranks of the Galactic Bowling League! Whether you have hours to play or only a few minutes, Galactic Bowling is a fast paced and entertaining experience that will leave you wanting more! Full Single-player story campaign including 11 Characters and Environments. 2 Single-player play modes including Regular and Battle Modes. Head to Head Online Multiplayer play Modes. Super Powers, Special Balls, and Whammies. Unlockable Characters, Environments, and Minigames. Unlock all 30 Steam Achievements!',\n",
       " \"['English']\",\n",
       " 1,\n",
       " 0,\n",
       " 0,\n",
       " 6,\n",
       " 11,\n",
       " 0.0,\n",
       " 'Perpetual FX Creative',\n",
       " 'Perpetual FX Creative',\n",
       " 'Single-player,Multi-player,Steam Achievements,Partial Controller Support',\n",
       " 'Casual,Indie,Sports',\n",
       " 'Indie,Casual,Sports,Bowling')"
      ]
     },
     "execution_count": 60,
     "metadata": {},
     "output_type": "execute_result"
    }
   ],
   "source": [
    "data_tuples[0]"
   ]
  },
  {
   "cell_type": "code",
   "execution_count": 62,
   "metadata": {},
   "outputs": [
    {
     "ename": "timeout",
     "evalue": "timed out",
     "output_type": "error",
     "traceback": [
      "\u001b[0;31m---------------------------------------------------------------------------\u001b[0m",
      "\u001b[0;31mtimeout\u001b[0m                                   Traceback (most recent call last)",
      "Cell \u001b[0;32mIn[62], line 1\u001b[0m\n\u001b[0;32m----> 1\u001b[0m insert_result \u001b[38;5;241m=\u001b[39m \u001b[43mclient\u001b[49m\u001b[38;5;241;43m.\u001b[39;49m\u001b[43mexecute\u001b[49m\u001b[43m(\u001b[49m\u001b[43minsert_query\u001b[49m\u001b[43m,\u001b[49m\u001b[43m \u001b[49m\u001b[43mdata_tuples\u001b[49m\u001b[43m)\u001b[49m\n\u001b[1;32m      2\u001b[0m \u001b[38;5;28mprint\u001b[39m(\u001b[38;5;124m\"\u001b[39m\u001b[38;5;124mBatch Insert result:\u001b[39m\u001b[38;5;124m\"\u001b[39m, insert_result)\n",
      "File \u001b[0;32m~/Desktop/Assignment/assignments/segwise/segwise_env/lib/python3.9/site-packages/clickhouse_driver/client.py:376\u001b[0m, in \u001b[0;36mClient.execute\u001b[0;34m(self, query, params, with_column_types, external_tables, query_id, settings, types_check, columnar)\u001b[0m\n\u001b[1;32m    373\u001b[0m is_insert \u001b[38;5;241m=\u001b[39m \u001b[38;5;28misinstance\u001b[39m(params, (\u001b[38;5;28mlist\u001b[39m, \u001b[38;5;28mtuple\u001b[39m, types\u001b[38;5;241m.\u001b[39mGeneratorType))\n\u001b[1;32m    375\u001b[0m \u001b[38;5;28;01mif\u001b[39;00m is_insert:\n\u001b[0;32m--> 376\u001b[0m     rv \u001b[38;5;241m=\u001b[39m \u001b[38;5;28;43mself\u001b[39;49m\u001b[38;5;241;43m.\u001b[39;49m\u001b[43mprocess_insert_query\u001b[49m\u001b[43m(\u001b[49m\n\u001b[1;32m    377\u001b[0m \u001b[43m        \u001b[49m\u001b[43mquery\u001b[49m\u001b[43m,\u001b[49m\u001b[43m \u001b[49m\u001b[43mparams\u001b[49m\u001b[43m,\u001b[49m\u001b[43m \u001b[49m\u001b[43mexternal_tables\u001b[49m\u001b[38;5;241;43m=\u001b[39;49m\u001b[43mexternal_tables\u001b[49m\u001b[43m,\u001b[49m\n\u001b[1;32m    378\u001b[0m \u001b[43m        \u001b[49m\u001b[43mquery_id\u001b[49m\u001b[38;5;241;43m=\u001b[39;49m\u001b[43mquery_id\u001b[49m\u001b[43m,\u001b[49m\u001b[43m \u001b[49m\u001b[43mtypes_check\u001b[49m\u001b[38;5;241;43m=\u001b[39;49m\u001b[43mtypes_check\u001b[49m\u001b[43m,\u001b[49m\n\u001b[1;32m    379\u001b[0m \u001b[43m        \u001b[49m\u001b[43mcolumnar\u001b[49m\u001b[38;5;241;43m=\u001b[39;49m\u001b[43mcolumnar\u001b[49m\n\u001b[1;32m    380\u001b[0m \u001b[43m    \u001b[49m\u001b[43m)\u001b[49m\n\u001b[1;32m    381\u001b[0m \u001b[38;5;28;01melse\u001b[39;00m:\n\u001b[1;32m    382\u001b[0m     rv \u001b[38;5;241m=\u001b[39m \u001b[38;5;28mself\u001b[39m\u001b[38;5;241m.\u001b[39mprocess_ordinary_query(\n\u001b[1;32m    383\u001b[0m         query, params\u001b[38;5;241m=\u001b[39mparams, with_column_types\u001b[38;5;241m=\u001b[39mwith_column_types,\n\u001b[1;32m    384\u001b[0m         external_tables\u001b[38;5;241m=\u001b[39mexternal_tables,\n\u001b[1;32m    385\u001b[0m         query_id\u001b[38;5;241m=\u001b[39mquery_id, types_check\u001b[38;5;241m=\u001b[39mtypes_check,\n\u001b[1;32m    386\u001b[0m         columnar\u001b[38;5;241m=\u001b[39mcolumnar\n\u001b[1;32m    387\u001b[0m     )\n",
      "File \u001b[0;32m~/Desktop/Assignment/assignments/segwise/segwise_env/lib/python3.9/site-packages/clickhouse_driver/client.py:607\u001b[0m, in \u001b[0;36mClient.process_insert_query\u001b[0;34m(self, query_without_data, data, external_tables, query_id, types_check, columnar)\u001b[0m\n\u001b[1;32m    604\u001b[0m sample_block \u001b[38;5;241m=\u001b[39m \u001b[38;5;28mself\u001b[39m\u001b[38;5;241m.\u001b[39mreceive_sample_block()\n\u001b[1;32m    606\u001b[0m \u001b[38;5;28;01mif\u001b[39;00m sample_block:\n\u001b[0;32m--> 607\u001b[0m     rv \u001b[38;5;241m=\u001b[39m \u001b[38;5;28;43mself\u001b[39;49m\u001b[38;5;241;43m.\u001b[39;49m\u001b[43msend_data\u001b[49m\u001b[43m(\u001b[49m\u001b[43msample_block\u001b[49m\u001b[43m,\u001b[49m\u001b[43m \u001b[49m\u001b[43mdata\u001b[49m\u001b[43m,\u001b[49m\n\u001b[1;32m    608\u001b[0m \u001b[43m                        \u001b[49m\u001b[43mtypes_check\u001b[49m\u001b[38;5;241;43m=\u001b[39;49m\u001b[43mtypes_check\u001b[49m\u001b[43m,\u001b[49m\u001b[43m \u001b[49m\u001b[43mcolumnar\u001b[49m\u001b[38;5;241;43m=\u001b[39;49m\u001b[43mcolumnar\u001b[49m\u001b[43m)\u001b[49m\n\u001b[1;32m    609\u001b[0m     \u001b[38;5;28mself\u001b[39m\u001b[38;5;241m.\u001b[39mreceive_end_of_insert_query()\n\u001b[1;32m    610\u001b[0m     \u001b[38;5;28;01mreturn\u001b[39;00m rv\n",
      "File \u001b[0;32m~/Desktop/Assignment/assignments/segwise/segwise_env/lib/python3.9/site-packages/clickhouse_driver/client.py:665\u001b[0m, in \u001b[0;36mClient.send_data\u001b[0;34m(self, sample_block, data, types_check, columnar)\u001b[0m\n\u001b[1;32m    661\u001b[0m     inserted_rows \u001b[38;5;241m+\u001b[39m\u001b[38;5;241m=\u001b[39m block\u001b[38;5;241m.\u001b[39mnum_rows\n\u001b[1;32m    663\u001b[0m     \u001b[38;5;66;03m# Starting from the specific revision there are profile events\u001b[39;00m\n\u001b[1;32m    664\u001b[0m     \u001b[38;5;66;03m# sent by server in response to each inserted block\u001b[39;00m\n\u001b[0;32m--> 665\u001b[0m     \u001b[38;5;28;43mself\u001b[39;49m\u001b[38;5;241;43m.\u001b[39;49m\u001b[43mreceive_profile_events\u001b[49m\u001b[43m(\u001b[49m\u001b[43m)\u001b[49m\n\u001b[1;32m    667\u001b[0m \u001b[38;5;66;03m# Empty block means end of data.\u001b[39;00m\n\u001b[1;32m    668\u001b[0m \u001b[38;5;28mself\u001b[39m\u001b[38;5;241m.\u001b[39mconnection\u001b[38;5;241m.\u001b[39msend_data(block_cls())\n",
      "File \u001b[0;32m~/Desktop/Assignment/assignments/segwise/segwise_env/lib/python3.9/site-packages/clickhouse_driver/client.py:734\u001b[0m, in \u001b[0;36mClient.receive_profile_events\u001b[0;34m(self)\u001b[0m\n\u001b[1;32m    731\u001b[0m     \u001b[38;5;28;01mreturn\u001b[39;00m \u001b[38;5;28;01mNone\u001b[39;00m\n\u001b[1;32m    733\u001b[0m \u001b[38;5;28;01mwhile\u001b[39;00m \u001b[38;5;28;01mTrue\u001b[39;00m:\n\u001b[0;32m--> 734\u001b[0m     packet \u001b[38;5;241m=\u001b[39m \u001b[38;5;28;43mself\u001b[39;49m\u001b[38;5;241;43m.\u001b[39;49m\u001b[43mconnection\u001b[49m\u001b[38;5;241;43m.\u001b[39;49m\u001b[43mreceive_packet\u001b[49m\u001b[43m(\u001b[49m\u001b[43m)\u001b[49m\n\u001b[1;32m    736\u001b[0m     \u001b[38;5;28;01mif\u001b[39;00m packet\u001b[38;5;241m.\u001b[39mtype \u001b[38;5;241m==\u001b[39m ServerPacketTypes\u001b[38;5;241m.\u001b[39mPROFILE_EVENTS:\n\u001b[1;32m    737\u001b[0m         \u001b[38;5;28mself\u001b[39m\u001b[38;5;241m.\u001b[39mlast_query\u001b[38;5;241m.\u001b[39mstore_profile(packet\u001b[38;5;241m.\u001b[39mprofile_info)\n",
      "File \u001b[0;32m~/Desktop/Assignment/assignments/segwise/segwise_env/lib/python3.9/site-packages/clickhouse_driver/connection.py:577\u001b[0m, in \u001b[0;36mConnection.receive_packet\u001b[0;34m(self)\u001b[0m\n\u001b[1;32m    574\u001b[0m \u001b[38;5;28;01mdef\u001b[39;00m \u001b[38;5;21mreceive_packet\u001b[39m(\u001b[38;5;28mself\u001b[39m):\n\u001b[1;32m    575\u001b[0m     packet \u001b[38;5;241m=\u001b[39m Packet()\n\u001b[0;32m--> 577\u001b[0m     packet\u001b[38;5;241m.\u001b[39mtype \u001b[38;5;241m=\u001b[39m packet_type \u001b[38;5;241m=\u001b[39m \u001b[43mread_varint\u001b[49m\u001b[43m(\u001b[49m\u001b[38;5;28;43mself\u001b[39;49m\u001b[38;5;241;43m.\u001b[39;49m\u001b[43mfin\u001b[49m\u001b[43m)\u001b[49m\n\u001b[1;32m    579\u001b[0m     \u001b[38;5;28;01mif\u001b[39;00m packet_type \u001b[38;5;241m==\u001b[39m ServerPacketTypes\u001b[38;5;241m.\u001b[39mDATA:\n\u001b[1;32m    580\u001b[0m         packet\u001b[38;5;241m.\u001b[39mblock \u001b[38;5;241m=\u001b[39m \u001b[38;5;28mself\u001b[39m\u001b[38;5;241m.\u001b[39mreceive_data(may_be_use_numpy\u001b[38;5;241m=\u001b[39m\u001b[38;5;28;01mTrue\u001b[39;00m)\n",
      "File \u001b[0;32mclickhouse_driver/varint.pyx:62\u001b[0m, in \u001b[0;36mclickhouse_driver.varint.read_varint\u001b[0;34m()\u001b[0m\n",
      "File \u001b[0;32mclickhouse_driver/bufferedreader.pyx:55\u001b[0m, in \u001b[0;36mclickhouse_driver.bufferedreader.BufferedReader.read_one\u001b[0;34m()\u001b[0m\n",
      "File \u001b[0;32mclickhouse_driver/bufferedreader.pyx:237\u001b[0m, in \u001b[0;36mclickhouse_driver.bufferedreader.BufferedSocketReader.read_into_buffer\u001b[0;34m()\u001b[0m\n",
      "\u001b[0;31mtimeout\u001b[0m: timed out"
     ]
    }
   ],
   "source": [
    "insert_result = client.execute(insert_query, data_tuples)\n",
    "print(\"Batch Insert result:\", insert_result)"
   ]
  },
  {
   "cell_type": "code",
   "execution_count": 63,
   "metadata": {},
   "outputs": [
    {
     "name": "stdout",
     "output_type": "stream",
     "text": [
      "Number of rows in 'game_data': [(0,)]\n"
     ]
    }
   ],
   "source": [
    "query_result = client.execute('SELECT COUNT(*) FROM analytics.game_data')\n",
    "print(\"Number of rows in 'game_data':\", query_result)"
   ]
  },
  {
   "cell_type": "code",
   "execution_count": 64,
   "metadata": {},
   "outputs": [],
   "source": [
    "def new_convert_df_to_tuple(df):\n",
    "    # Convert DataFrame to a list of tuples\n",
    "    data_tuples = [(row['app_id'], row['name'], row['release_date'], row['required_age'], row['price'], \n",
    "                row['dlc_count'], row['about_the_game'], row['supported_languages'], \n",
    "                row['windows'], row['mac'], row['linux'], row['positive'], row['negative'], \n",
    "                row['score_rank'], row['developers'], row['publishers'], row['categories'], \n",
    "                row['genres'], row['tags']) for index, row in df_mapped.iterrows()]\n",
    "    return data_tuples\n"
   ]
  },
  {
   "cell_type": "code",
   "execution_count": 65,
   "metadata": {},
   "outputs": [],
   "source": [
    "df_tupled = new_convert_df_to_tuple(df=df_mapped)"
   ]
  },
  {
   "cell_type": "code",
   "execution_count": 66,
   "metadata": {},
   "outputs": [
    {
     "data": {
      "text/plain": [
       "(20200,\n",
       " 'Galactic Bowling',\n",
       " Timestamp('2008-10-21 00:00:00'),\n",
       " 0,\n",
       " 19.99,\n",
       " 0,\n",
       " 'Galactic Bowling is an exaggerated and stylized bowling game with an intergalactic twist. Players will engage in fast-paced single and multi-player competition while being submerged in a unique new universe filled with over-the-top humor, wild characters, unique levels, and addictive game play. The title is aimed at players of all ages and skill sets. Through accessible and intuitive controls and game-play, Galactic Bowling allows you to jump right into the action. A single-player campaign and online play allow you to work your way up the ranks of the Galactic Bowling League! Whether you have hours to play or only a few minutes, Galactic Bowling is a fast paced and entertaining experience that will leave you wanting more! Full Single-player story campaign including 11 Characters and Environments. 2 Single-player play modes including Regular and Battle Modes. Head to Head Online Multiplayer play Modes. Super Powers, Special Balls, and Whammies. Unlockable Characters, Environments, and Minigames. Unlock all 30 Steam Achievements!',\n",
       " \"['English']\",\n",
       " 1,\n",
       " 0,\n",
       " 0,\n",
       " 6,\n",
       " 11,\n",
       " 0.0,\n",
       " 'Perpetual FX Creative',\n",
       " 'Perpetual FX Creative',\n",
       " 'Single-player,Multi-player,Steam Achievements,Partial Controller Support',\n",
       " 'Casual,Indie,Sports',\n",
       " 'Indie,Casual,Sports,Bowling')"
      ]
     },
     "execution_count": 66,
     "metadata": {},
     "output_type": "execute_result"
    }
   ],
   "source": [
    "df_tupled[0]"
   ]
  },
  {
   "cell_type": "code",
   "execution_count": 67,
   "metadata": {},
   "outputs": [
    {
     "data": {
      "text/plain": [
       "[]"
      ]
     },
     "execution_count": 67,
     "metadata": {},
     "output_type": "execute_result"
    }
   ],
   "source": [
    "client.execute('CREATE DATABASE IF NOT EXISTS sample_db')"
   ]
  },
  {
   "cell_type": "code",
   "execution_count": 68,
   "metadata": {},
   "outputs": [],
   "source": [
    "create_table_query = '''\n",
    "CREATE TABLE IF NOT EXISTS sample_db.sample_table (\n",
    "    event_time DateTime,\n",
    "    price Float64,\n",
    "    quantity Int64,\n",
    "    description String,\n",
    "    is_active UInt8\n",
    ") ENGINE = MergeTree()\n",
    "ORDER BY event_time;\n",
    "'''"
   ]
  },
  {
   "cell_type": "code",
   "execution_count": 69,
   "metadata": {},
   "outputs": [
    {
     "name": "stdout",
     "output_type": "stream",
     "text": [
      "Database and table created successfully.\n"
     ]
    }
   ],
   "source": [
    "client.execute(create_table_query)\n",
    "print(\"Database and table created successfully.\")"
   ]
  },
  {
   "cell_type": "code",
   "execution_count": 70,
   "metadata": {},
   "outputs": [
    {
     "ename": "timeout",
     "evalue": "timed out",
     "output_type": "error",
     "traceback": [
      "\u001b[0;31m---------------------------------------------------------------------------\u001b[0m",
      "\u001b[0;31mtimeout\u001b[0m                                   Traceback (most recent call last)",
      "Cell \u001b[0;32mIn[70], line 23\u001b[0m\n\u001b[1;32m     17\u001b[0m insert_query \u001b[38;5;241m=\u001b[39m \u001b[38;5;124m'''\u001b[39m\n\u001b[1;32m     18\u001b[0m \u001b[38;5;124mINSERT INTO sample_db.sample_table (event_time, price, quantity, description, is_active)\u001b[39m\n\u001b[1;32m     19\u001b[0m \u001b[38;5;124mVALUES\u001b[39m\n\u001b[1;32m     20\u001b[0m \u001b[38;5;124m'''\u001b[39m\n\u001b[1;32m     22\u001b[0m \u001b[38;5;66;03m# Insert the data\u001b[39;00m\n\u001b[0;32m---> 23\u001b[0m insert_result \u001b[38;5;241m=\u001b[39m \u001b[43mclient\u001b[49m\u001b[38;5;241;43m.\u001b[39;49m\u001b[43mexecute\u001b[49m\u001b[43m(\u001b[49m\u001b[43minsert_query\u001b[49m\u001b[43m,\u001b[49m\u001b[43m \u001b[49m\u001b[43mdata_tuples\u001b[49m\u001b[43m)\u001b[49m\n\u001b[1;32m     24\u001b[0m \u001b[38;5;28mprint\u001b[39m(\u001b[38;5;124m\"\u001b[39m\u001b[38;5;124mBatch Insert result:\u001b[39m\u001b[38;5;124m\"\u001b[39m, insert_result)\n",
      "File \u001b[0;32m~/Desktop/Assignment/assignments/segwise/segwise_env/lib/python3.9/site-packages/clickhouse_driver/client.py:376\u001b[0m, in \u001b[0;36mClient.execute\u001b[0;34m(self, query, params, with_column_types, external_tables, query_id, settings, types_check, columnar)\u001b[0m\n\u001b[1;32m    373\u001b[0m is_insert \u001b[38;5;241m=\u001b[39m \u001b[38;5;28misinstance\u001b[39m(params, (\u001b[38;5;28mlist\u001b[39m, \u001b[38;5;28mtuple\u001b[39m, types\u001b[38;5;241m.\u001b[39mGeneratorType))\n\u001b[1;32m    375\u001b[0m \u001b[38;5;28;01mif\u001b[39;00m is_insert:\n\u001b[0;32m--> 376\u001b[0m     rv \u001b[38;5;241m=\u001b[39m \u001b[38;5;28;43mself\u001b[39;49m\u001b[38;5;241;43m.\u001b[39;49m\u001b[43mprocess_insert_query\u001b[49m\u001b[43m(\u001b[49m\n\u001b[1;32m    377\u001b[0m \u001b[43m        \u001b[49m\u001b[43mquery\u001b[49m\u001b[43m,\u001b[49m\u001b[43m \u001b[49m\u001b[43mparams\u001b[49m\u001b[43m,\u001b[49m\u001b[43m \u001b[49m\u001b[43mexternal_tables\u001b[49m\u001b[38;5;241;43m=\u001b[39;49m\u001b[43mexternal_tables\u001b[49m\u001b[43m,\u001b[49m\n\u001b[1;32m    378\u001b[0m \u001b[43m        \u001b[49m\u001b[43mquery_id\u001b[49m\u001b[38;5;241;43m=\u001b[39;49m\u001b[43mquery_id\u001b[49m\u001b[43m,\u001b[49m\u001b[43m \u001b[49m\u001b[43mtypes_check\u001b[49m\u001b[38;5;241;43m=\u001b[39;49m\u001b[43mtypes_check\u001b[49m\u001b[43m,\u001b[49m\n\u001b[1;32m    379\u001b[0m \u001b[43m        \u001b[49m\u001b[43mcolumnar\u001b[49m\u001b[38;5;241;43m=\u001b[39;49m\u001b[43mcolumnar\u001b[49m\n\u001b[1;32m    380\u001b[0m \u001b[43m    \u001b[49m\u001b[43m)\u001b[49m\n\u001b[1;32m    381\u001b[0m \u001b[38;5;28;01melse\u001b[39;00m:\n\u001b[1;32m    382\u001b[0m     rv \u001b[38;5;241m=\u001b[39m \u001b[38;5;28mself\u001b[39m\u001b[38;5;241m.\u001b[39mprocess_ordinary_query(\n\u001b[1;32m    383\u001b[0m         query, params\u001b[38;5;241m=\u001b[39mparams, with_column_types\u001b[38;5;241m=\u001b[39mwith_column_types,\n\u001b[1;32m    384\u001b[0m         external_tables\u001b[38;5;241m=\u001b[39mexternal_tables,\n\u001b[1;32m    385\u001b[0m         query_id\u001b[38;5;241m=\u001b[39mquery_id, types_check\u001b[38;5;241m=\u001b[39mtypes_check,\n\u001b[1;32m    386\u001b[0m         columnar\u001b[38;5;241m=\u001b[39mcolumnar\n\u001b[1;32m    387\u001b[0m     )\n",
      "File \u001b[0;32m~/Desktop/Assignment/assignments/segwise/segwise_env/lib/python3.9/site-packages/clickhouse_driver/client.py:607\u001b[0m, in \u001b[0;36mClient.process_insert_query\u001b[0;34m(self, query_without_data, data, external_tables, query_id, types_check, columnar)\u001b[0m\n\u001b[1;32m    604\u001b[0m sample_block \u001b[38;5;241m=\u001b[39m \u001b[38;5;28mself\u001b[39m\u001b[38;5;241m.\u001b[39mreceive_sample_block()\n\u001b[1;32m    606\u001b[0m \u001b[38;5;28;01mif\u001b[39;00m sample_block:\n\u001b[0;32m--> 607\u001b[0m     rv \u001b[38;5;241m=\u001b[39m \u001b[38;5;28;43mself\u001b[39;49m\u001b[38;5;241;43m.\u001b[39;49m\u001b[43msend_data\u001b[49m\u001b[43m(\u001b[49m\u001b[43msample_block\u001b[49m\u001b[43m,\u001b[49m\u001b[43m \u001b[49m\u001b[43mdata\u001b[49m\u001b[43m,\u001b[49m\n\u001b[1;32m    608\u001b[0m \u001b[43m                        \u001b[49m\u001b[43mtypes_check\u001b[49m\u001b[38;5;241;43m=\u001b[39;49m\u001b[43mtypes_check\u001b[49m\u001b[43m,\u001b[49m\u001b[43m \u001b[49m\u001b[43mcolumnar\u001b[49m\u001b[38;5;241;43m=\u001b[39;49m\u001b[43mcolumnar\u001b[49m\u001b[43m)\u001b[49m\n\u001b[1;32m    609\u001b[0m     \u001b[38;5;28mself\u001b[39m\u001b[38;5;241m.\u001b[39mreceive_end_of_insert_query()\n\u001b[1;32m    610\u001b[0m     \u001b[38;5;28;01mreturn\u001b[39;00m rv\n",
      "File \u001b[0;32m~/Desktop/Assignment/assignments/segwise/segwise_env/lib/python3.9/site-packages/clickhouse_driver/client.py:665\u001b[0m, in \u001b[0;36mClient.send_data\u001b[0;34m(self, sample_block, data, types_check, columnar)\u001b[0m\n\u001b[1;32m    661\u001b[0m     inserted_rows \u001b[38;5;241m+\u001b[39m\u001b[38;5;241m=\u001b[39m block\u001b[38;5;241m.\u001b[39mnum_rows\n\u001b[1;32m    663\u001b[0m     \u001b[38;5;66;03m# Starting from the specific revision there are profile events\u001b[39;00m\n\u001b[1;32m    664\u001b[0m     \u001b[38;5;66;03m# sent by server in response to each inserted block\u001b[39;00m\n\u001b[0;32m--> 665\u001b[0m     \u001b[38;5;28;43mself\u001b[39;49m\u001b[38;5;241;43m.\u001b[39;49m\u001b[43mreceive_profile_events\u001b[49m\u001b[43m(\u001b[49m\u001b[43m)\u001b[49m\n\u001b[1;32m    667\u001b[0m \u001b[38;5;66;03m# Empty block means end of data.\u001b[39;00m\n\u001b[1;32m    668\u001b[0m \u001b[38;5;28mself\u001b[39m\u001b[38;5;241m.\u001b[39mconnection\u001b[38;5;241m.\u001b[39msend_data(block_cls())\n",
      "File \u001b[0;32m~/Desktop/Assignment/assignments/segwise/segwise_env/lib/python3.9/site-packages/clickhouse_driver/client.py:734\u001b[0m, in \u001b[0;36mClient.receive_profile_events\u001b[0;34m(self)\u001b[0m\n\u001b[1;32m    731\u001b[0m     \u001b[38;5;28;01mreturn\u001b[39;00m \u001b[38;5;28;01mNone\u001b[39;00m\n\u001b[1;32m    733\u001b[0m \u001b[38;5;28;01mwhile\u001b[39;00m \u001b[38;5;28;01mTrue\u001b[39;00m:\n\u001b[0;32m--> 734\u001b[0m     packet \u001b[38;5;241m=\u001b[39m \u001b[38;5;28;43mself\u001b[39;49m\u001b[38;5;241;43m.\u001b[39;49m\u001b[43mconnection\u001b[49m\u001b[38;5;241;43m.\u001b[39;49m\u001b[43mreceive_packet\u001b[49m\u001b[43m(\u001b[49m\u001b[43m)\u001b[49m\n\u001b[1;32m    736\u001b[0m     \u001b[38;5;28;01mif\u001b[39;00m packet\u001b[38;5;241m.\u001b[39mtype \u001b[38;5;241m==\u001b[39m ServerPacketTypes\u001b[38;5;241m.\u001b[39mPROFILE_EVENTS:\n\u001b[1;32m    737\u001b[0m         \u001b[38;5;28mself\u001b[39m\u001b[38;5;241m.\u001b[39mlast_query\u001b[38;5;241m.\u001b[39mstore_profile(packet\u001b[38;5;241m.\u001b[39mprofile_info)\n",
      "File \u001b[0;32m~/Desktop/Assignment/assignments/segwise/segwise_env/lib/python3.9/site-packages/clickhouse_driver/connection.py:577\u001b[0m, in \u001b[0;36mConnection.receive_packet\u001b[0;34m(self)\u001b[0m\n\u001b[1;32m    574\u001b[0m \u001b[38;5;28;01mdef\u001b[39;00m \u001b[38;5;21mreceive_packet\u001b[39m(\u001b[38;5;28mself\u001b[39m):\n\u001b[1;32m    575\u001b[0m     packet \u001b[38;5;241m=\u001b[39m Packet()\n\u001b[0;32m--> 577\u001b[0m     packet\u001b[38;5;241m.\u001b[39mtype \u001b[38;5;241m=\u001b[39m packet_type \u001b[38;5;241m=\u001b[39m \u001b[43mread_varint\u001b[49m\u001b[43m(\u001b[49m\u001b[38;5;28;43mself\u001b[39;49m\u001b[38;5;241;43m.\u001b[39;49m\u001b[43mfin\u001b[49m\u001b[43m)\u001b[49m\n\u001b[1;32m    579\u001b[0m     \u001b[38;5;28;01mif\u001b[39;00m packet_type \u001b[38;5;241m==\u001b[39m ServerPacketTypes\u001b[38;5;241m.\u001b[39mDATA:\n\u001b[1;32m    580\u001b[0m         packet\u001b[38;5;241m.\u001b[39mblock \u001b[38;5;241m=\u001b[39m \u001b[38;5;28mself\u001b[39m\u001b[38;5;241m.\u001b[39mreceive_data(may_be_use_numpy\u001b[38;5;241m=\u001b[39m\u001b[38;5;28;01mTrue\u001b[39;00m)\n",
      "File \u001b[0;32mclickhouse_driver/varint.pyx:62\u001b[0m, in \u001b[0;36mclickhouse_driver.varint.read_varint\u001b[0;34m()\u001b[0m\n",
      "File \u001b[0;32mclickhouse_driver/bufferedreader.pyx:55\u001b[0m, in \u001b[0;36mclickhouse_driver.bufferedreader.BufferedReader.read_one\u001b[0;34m()\u001b[0m\n",
      "File \u001b[0;32mclickhouse_driver/bufferedreader.pyx:237\u001b[0m, in \u001b[0;36mclickhouse_driver.bufferedreader.BufferedSocketReader.read_into_buffer\u001b[0;34m()\u001b[0m\n",
      "\u001b[0;31mtimeout\u001b[0m: timed out"
     ]
    }
   ],
   "source": [
    "# Example DataFrame with the sample data\n",
    "import pandas as pd\n",
    "from datetime import datetime\n",
    "\n",
    "df_sample = pd.DataFrame({\n",
    "    'event_time': [datetime(2024, 1, 1), datetime(2024, 2, 1), datetime(2024, 3, 1)],\n",
    "    'price': [19.99, 29.99, 39.99],\n",
    "    'quantity': [10, 20, 30],\n",
    "    'description': ['Item A', 'Item B', 'Item C'],\n",
    "    'is_active': [1, 0, 1]  # Boolean-like column (0 or 1)\n",
    "})\n",
    "\n",
    "# Convert DataFrame to a list of tuples for batch insertion\n",
    "data_tuples = [(row['event_time'], row['price'], row['quantity'], row['description'], row['is_active']) for _, row in df_sample.iterrows()]\n",
    "\n",
    "# Insert the data into the table\n",
    "insert_query = '''\n",
    "INSERT INTO sample_db.sample_table (event_time, price, quantity, description, is_active)\n",
    "VALUES\n",
    "'''\n",
    "\n",
    "# Insert the data\n",
    "insert_result = client.execute(insert_query, data_tuples)\n",
    "print(\"Batch Insert result:\", insert_result)\n"
   ]
  },
  {
   "cell_type": "code",
   "execution_count": 71,
   "metadata": {},
   "outputs": [
    {
     "data": {
      "text/plain": [
       "[]"
      ]
     },
     "execution_count": 71,
     "metadata": {},
     "output_type": "execute_result"
    }
   ],
   "source": [
    "client.execute('CREATE TABLE test (x Int32) ENGINE = Memory')"
   ]
  },
  {
   "cell_type": "code",
   "execution_count": 72,
   "metadata": {},
   "outputs": [
    {
     "ename": "timeout",
     "evalue": "timed out",
     "output_type": "error",
     "traceback": [
      "\u001b[0;31m---------------------------------------------------------------------------\u001b[0m",
      "\u001b[0;31mtimeout\u001b[0m                                   Traceback (most recent call last)",
      "Cell \u001b[0;32mIn[72], line 1\u001b[0m\n\u001b[0;32m----> 1\u001b[0m \u001b[43mclient\u001b[49m\u001b[38;5;241;43m.\u001b[39;49m\u001b[43mexecute\u001b[49m\u001b[43m(\u001b[49m\u001b[38;5;124;43m'\u001b[39;49m\u001b[38;5;124;43mINSERT INTO test (x) VALUES\u001b[39;49m\u001b[38;5;124;43m'\u001b[39;49m\u001b[43m,\u001b[49m\u001b[43m[\u001b[49m\u001b[43m{\u001b[49m\u001b[38;5;124;43m'\u001b[39;49m\u001b[38;5;124;43mx\u001b[39;49m\u001b[38;5;124;43m'\u001b[39;49m\u001b[43m:\u001b[49m\u001b[43m \u001b[49m\u001b[38;5;241;43m100\u001b[39;49m\u001b[43m}\u001b[49m\u001b[43m]\u001b[49m\u001b[43m)\u001b[49m\n",
      "File \u001b[0;32m~/Desktop/Assignment/assignments/segwise/segwise_env/lib/python3.9/site-packages/clickhouse_driver/client.py:376\u001b[0m, in \u001b[0;36mClient.execute\u001b[0;34m(self, query, params, with_column_types, external_tables, query_id, settings, types_check, columnar)\u001b[0m\n\u001b[1;32m    373\u001b[0m is_insert \u001b[38;5;241m=\u001b[39m \u001b[38;5;28misinstance\u001b[39m(params, (\u001b[38;5;28mlist\u001b[39m, \u001b[38;5;28mtuple\u001b[39m, types\u001b[38;5;241m.\u001b[39mGeneratorType))\n\u001b[1;32m    375\u001b[0m \u001b[38;5;28;01mif\u001b[39;00m is_insert:\n\u001b[0;32m--> 376\u001b[0m     rv \u001b[38;5;241m=\u001b[39m \u001b[38;5;28;43mself\u001b[39;49m\u001b[38;5;241;43m.\u001b[39;49m\u001b[43mprocess_insert_query\u001b[49m\u001b[43m(\u001b[49m\n\u001b[1;32m    377\u001b[0m \u001b[43m        \u001b[49m\u001b[43mquery\u001b[49m\u001b[43m,\u001b[49m\u001b[43m \u001b[49m\u001b[43mparams\u001b[49m\u001b[43m,\u001b[49m\u001b[43m \u001b[49m\u001b[43mexternal_tables\u001b[49m\u001b[38;5;241;43m=\u001b[39;49m\u001b[43mexternal_tables\u001b[49m\u001b[43m,\u001b[49m\n\u001b[1;32m    378\u001b[0m \u001b[43m        \u001b[49m\u001b[43mquery_id\u001b[49m\u001b[38;5;241;43m=\u001b[39;49m\u001b[43mquery_id\u001b[49m\u001b[43m,\u001b[49m\u001b[43m \u001b[49m\u001b[43mtypes_check\u001b[49m\u001b[38;5;241;43m=\u001b[39;49m\u001b[43mtypes_check\u001b[49m\u001b[43m,\u001b[49m\n\u001b[1;32m    379\u001b[0m \u001b[43m        \u001b[49m\u001b[43mcolumnar\u001b[49m\u001b[38;5;241;43m=\u001b[39;49m\u001b[43mcolumnar\u001b[49m\n\u001b[1;32m    380\u001b[0m \u001b[43m    \u001b[49m\u001b[43m)\u001b[49m\n\u001b[1;32m    381\u001b[0m \u001b[38;5;28;01melse\u001b[39;00m:\n\u001b[1;32m    382\u001b[0m     rv \u001b[38;5;241m=\u001b[39m \u001b[38;5;28mself\u001b[39m\u001b[38;5;241m.\u001b[39mprocess_ordinary_query(\n\u001b[1;32m    383\u001b[0m         query, params\u001b[38;5;241m=\u001b[39mparams, with_column_types\u001b[38;5;241m=\u001b[39mwith_column_types,\n\u001b[1;32m    384\u001b[0m         external_tables\u001b[38;5;241m=\u001b[39mexternal_tables,\n\u001b[1;32m    385\u001b[0m         query_id\u001b[38;5;241m=\u001b[39mquery_id, types_check\u001b[38;5;241m=\u001b[39mtypes_check,\n\u001b[1;32m    386\u001b[0m         columnar\u001b[38;5;241m=\u001b[39mcolumnar\n\u001b[1;32m    387\u001b[0m     )\n",
      "File \u001b[0;32m~/Desktop/Assignment/assignments/segwise/segwise_env/lib/python3.9/site-packages/clickhouse_driver/client.py:607\u001b[0m, in \u001b[0;36mClient.process_insert_query\u001b[0;34m(self, query_without_data, data, external_tables, query_id, types_check, columnar)\u001b[0m\n\u001b[1;32m    604\u001b[0m sample_block \u001b[38;5;241m=\u001b[39m \u001b[38;5;28mself\u001b[39m\u001b[38;5;241m.\u001b[39mreceive_sample_block()\n\u001b[1;32m    606\u001b[0m \u001b[38;5;28;01mif\u001b[39;00m sample_block:\n\u001b[0;32m--> 607\u001b[0m     rv \u001b[38;5;241m=\u001b[39m \u001b[38;5;28;43mself\u001b[39;49m\u001b[38;5;241;43m.\u001b[39;49m\u001b[43msend_data\u001b[49m\u001b[43m(\u001b[49m\u001b[43msample_block\u001b[49m\u001b[43m,\u001b[49m\u001b[43m \u001b[49m\u001b[43mdata\u001b[49m\u001b[43m,\u001b[49m\n\u001b[1;32m    608\u001b[0m \u001b[43m                        \u001b[49m\u001b[43mtypes_check\u001b[49m\u001b[38;5;241;43m=\u001b[39;49m\u001b[43mtypes_check\u001b[49m\u001b[43m,\u001b[49m\u001b[43m \u001b[49m\u001b[43mcolumnar\u001b[49m\u001b[38;5;241;43m=\u001b[39;49m\u001b[43mcolumnar\u001b[49m\u001b[43m)\u001b[49m\n\u001b[1;32m    609\u001b[0m     \u001b[38;5;28mself\u001b[39m\u001b[38;5;241m.\u001b[39mreceive_end_of_insert_query()\n\u001b[1;32m    610\u001b[0m     \u001b[38;5;28;01mreturn\u001b[39;00m rv\n",
      "File \u001b[0;32m~/Desktop/Assignment/assignments/segwise/segwise_env/lib/python3.9/site-packages/clickhouse_driver/client.py:665\u001b[0m, in \u001b[0;36mClient.send_data\u001b[0;34m(self, sample_block, data, types_check, columnar)\u001b[0m\n\u001b[1;32m    661\u001b[0m     inserted_rows \u001b[38;5;241m+\u001b[39m\u001b[38;5;241m=\u001b[39m block\u001b[38;5;241m.\u001b[39mnum_rows\n\u001b[1;32m    663\u001b[0m     \u001b[38;5;66;03m# Starting from the specific revision there are profile events\u001b[39;00m\n\u001b[1;32m    664\u001b[0m     \u001b[38;5;66;03m# sent by server in response to each inserted block\u001b[39;00m\n\u001b[0;32m--> 665\u001b[0m     \u001b[38;5;28;43mself\u001b[39;49m\u001b[38;5;241;43m.\u001b[39;49m\u001b[43mreceive_profile_events\u001b[49m\u001b[43m(\u001b[49m\u001b[43m)\u001b[49m\n\u001b[1;32m    667\u001b[0m \u001b[38;5;66;03m# Empty block means end of data.\u001b[39;00m\n\u001b[1;32m    668\u001b[0m \u001b[38;5;28mself\u001b[39m\u001b[38;5;241m.\u001b[39mconnection\u001b[38;5;241m.\u001b[39msend_data(block_cls())\n",
      "File \u001b[0;32m~/Desktop/Assignment/assignments/segwise/segwise_env/lib/python3.9/site-packages/clickhouse_driver/client.py:734\u001b[0m, in \u001b[0;36mClient.receive_profile_events\u001b[0;34m(self)\u001b[0m\n\u001b[1;32m    731\u001b[0m     \u001b[38;5;28;01mreturn\u001b[39;00m \u001b[38;5;28;01mNone\u001b[39;00m\n\u001b[1;32m    733\u001b[0m \u001b[38;5;28;01mwhile\u001b[39;00m \u001b[38;5;28;01mTrue\u001b[39;00m:\n\u001b[0;32m--> 734\u001b[0m     packet \u001b[38;5;241m=\u001b[39m \u001b[38;5;28;43mself\u001b[39;49m\u001b[38;5;241;43m.\u001b[39;49m\u001b[43mconnection\u001b[49m\u001b[38;5;241;43m.\u001b[39;49m\u001b[43mreceive_packet\u001b[49m\u001b[43m(\u001b[49m\u001b[43m)\u001b[49m\n\u001b[1;32m    736\u001b[0m     \u001b[38;5;28;01mif\u001b[39;00m packet\u001b[38;5;241m.\u001b[39mtype \u001b[38;5;241m==\u001b[39m ServerPacketTypes\u001b[38;5;241m.\u001b[39mPROFILE_EVENTS:\n\u001b[1;32m    737\u001b[0m         \u001b[38;5;28mself\u001b[39m\u001b[38;5;241m.\u001b[39mlast_query\u001b[38;5;241m.\u001b[39mstore_profile(packet\u001b[38;5;241m.\u001b[39mprofile_info)\n",
      "File \u001b[0;32m~/Desktop/Assignment/assignments/segwise/segwise_env/lib/python3.9/site-packages/clickhouse_driver/connection.py:577\u001b[0m, in \u001b[0;36mConnection.receive_packet\u001b[0;34m(self)\u001b[0m\n\u001b[1;32m    574\u001b[0m \u001b[38;5;28;01mdef\u001b[39;00m \u001b[38;5;21mreceive_packet\u001b[39m(\u001b[38;5;28mself\u001b[39m):\n\u001b[1;32m    575\u001b[0m     packet \u001b[38;5;241m=\u001b[39m Packet()\n\u001b[0;32m--> 577\u001b[0m     packet\u001b[38;5;241m.\u001b[39mtype \u001b[38;5;241m=\u001b[39m packet_type \u001b[38;5;241m=\u001b[39m \u001b[43mread_varint\u001b[49m\u001b[43m(\u001b[49m\u001b[38;5;28;43mself\u001b[39;49m\u001b[38;5;241;43m.\u001b[39;49m\u001b[43mfin\u001b[49m\u001b[43m)\u001b[49m\n\u001b[1;32m    579\u001b[0m     \u001b[38;5;28;01mif\u001b[39;00m packet_type \u001b[38;5;241m==\u001b[39m ServerPacketTypes\u001b[38;5;241m.\u001b[39mDATA:\n\u001b[1;32m    580\u001b[0m         packet\u001b[38;5;241m.\u001b[39mblock \u001b[38;5;241m=\u001b[39m \u001b[38;5;28mself\u001b[39m\u001b[38;5;241m.\u001b[39mreceive_data(may_be_use_numpy\u001b[38;5;241m=\u001b[39m\u001b[38;5;28;01mTrue\u001b[39;00m)\n",
      "File \u001b[0;32mclickhouse_driver/varint.pyx:62\u001b[0m, in \u001b[0;36mclickhouse_driver.varint.read_varint\u001b[0;34m()\u001b[0m\n",
      "File \u001b[0;32mclickhouse_driver/bufferedreader.pyx:55\u001b[0m, in \u001b[0;36mclickhouse_driver.bufferedreader.BufferedReader.read_one\u001b[0;34m()\u001b[0m\n",
      "File \u001b[0;32mclickhouse_driver/bufferedreader.pyx:237\u001b[0m, in \u001b[0;36mclickhouse_driver.bufferedreader.BufferedSocketReader.read_into_buffer\u001b[0;34m()\u001b[0m\n",
      "\u001b[0;31mtimeout\u001b[0m: timed out"
     ]
    }
   ],
   "source": [
    "client.execute('INSERT INTO test (x) VALUES',[{'x': 100}])"
   ]
  },
  {
   "cell_type": "code",
   "execution_count": null,
   "metadata": {},
   "outputs": [],
   "source": [
    "client.execute('INSERT INTO test (x) VALUES', [[200]])"
   ]
  },
  {
   "cell_type": "code",
   "execution_count": null,
   "metadata": {},
   "outputs": [],
   "source": [
    "client.execute('INSERT INTO test (x) ''SELECT * FROM system.numbers LIMIT %(limit)s',{'limit': 3})"
   ]
  },
  {
   "cell_type": "code",
   "execution_count": null,
   "metadata": {},
   "outputs": [],
   "source": [
    "client.execute('SELECT sum(x) FROM test')"
   ]
  },
  {
   "cell_type": "code",
   "execution_count": 1,
   "metadata": {},
   "outputs": [
    {
     "ename": "NameError",
     "evalue": "name 'client' is not defined",
     "output_type": "error",
     "traceback": [
      "\u001b[0;31m---------------------------------------------------------------------------\u001b[0m",
      "\u001b[0;31mNameError\u001b[0m                                 Traceback (most recent call last)",
      "Cell \u001b[0;32mIn[1], line 1\u001b[0m\n\u001b[0;32m----> 1\u001b[0m \u001b[43mclient\u001b[49m\n",
      "\u001b[0;31mNameError\u001b[0m: name 'client' is not defined"
     ]
    }
   ],
   "source": []
  },
  {
   "cell_type": "code",
   "execution_count": null,
   "metadata": {},
   "outputs": [],
   "source": []
  },
  {
   "cell_type": "code",
   "execution_count": null,
   "metadata": {},
   "outputs": [],
   "source": []
  },
  {
   "cell_type": "code",
   "execution_count": null,
   "metadata": {},
   "outputs": [],
   "source": []
  },
  {
   "cell_type": "code",
   "execution_count": null,
   "metadata": {},
   "outputs": [],
   "source": []
  },
  {
   "cell_type": "code",
   "execution_count": null,
   "metadata": {},
   "outputs": [],
   "source": []
  },
  {
   "cell_type": "code",
   "execution_count": null,
   "metadata": {},
   "outputs": [],
   "source": []
  }
 ],
 "metadata": {
  "kernelspec": {
   "display_name": "segwise_env",
   "language": "python",
   "name": "python3"
  },
  "language_info": {
   "codemirror_mode": {
    "name": "ipython",
    "version": 3
   },
   "file_extension": ".py",
   "mimetype": "text/x-python",
   "name": "python",
   "nbconvert_exporter": "python",
   "pygments_lexer": "ipython3",
   "version": "3.9.6"
  }
 },
 "nbformat": 4,
 "nbformat_minor": 2
}
